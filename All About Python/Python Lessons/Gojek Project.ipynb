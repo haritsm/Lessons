{
 "cells": [
  {
   "cell_type": "markdown",
   "metadata": {},
   "source": [
    "# Python Project\n",
    "\n",
    "Link: https://docs.google.com/document/d/11j3ep-6_PaNIrPJIETtQT7JwAf6EROHNpn8b9EtP6F4/edit?pli=1\n",
    "\n",
    "1. The project should solve a Gojek problem\n",
    "2. To pass, the project has to contain:\n",
    "    - Querying directly from Jupyterlab/ Jupyter Notebook (you are prohibited to query directly from BQ site, and then download CSV, and then manually read it into your Jupyter Notebook/lab) because we want a reproducible output with minimum friction\n",
    "    - Use our Python’s main visualization package tools: matplotlib and seaborn\n",
    "    - Data manipulation\n",
    "        - Create new columns\n",
    "        - Filtering rows\n",
    "        - Group by aggregations\n",
    "        - Sorting\n",
    "        - Dataframe melt() and pivot() \n",
    "        - Create neat functions that do data manipulation (if you utilize the cheat sheet that is provided, this will be easy to achieve)\n",
    "3. The project should be done in iPython Notebook format (.ipynb)\n"
   ]
  },
  {
   "cell_type": "code",
   "execution_count": null,
   "metadata": {},
   "outputs": [],
   "source": []
  }
 ],
 "metadata": {
  "kernelspec": {
   "display_name": "Python 3",
   "language": "python",
   "name": "python3"
  },
  "language_info": {
   "codemirror_mode": {
    "name": "ipython",
    "version": 3
   },
   "file_extension": ".py",
   "mimetype": "text/x-python",
   "name": "python",
   "nbconvert_exporter": "python",
   "pygments_lexer": "ipython3",
   "version": "3.7.3"
  }
 },
 "nbformat": 4,
 "nbformat_minor": 4
}
