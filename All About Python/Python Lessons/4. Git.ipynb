{
 "cells": [
  {
   "cell_type": "markdown",
   "metadata": {},
   "source": [
    "# Git"
   ]
  },
  {
   "cell_type": "markdown",
   "metadata": {},
   "source": [
    "Reading Material:\n",
    "- [Get familiar with Git](https://happygitwithr.com/)\n",
    "\n",
    "Read chapter 1- 11\n",
    "\n",
    "Read Chapter 20-23\n",
    "\n",
    "Install and read the documentation of Git’s Jupyterlab extension: https://pypi.org/project/jupyterlab-git/\n",
    "\n",
    "Deep dive with Git: https://try.github.io/"
   ]
  },
  {
   "cell_type": "code",
   "execution_count": null,
   "metadata": {},
   "outputs": [],
   "source": []
  }
 ],
 "metadata": {
  "kernelspec": {
   "display_name": "Python 3",
   "language": "python",
   "name": "python3"
  },
  "language_info": {
   "codemirror_mode": {
    "name": "ipython",
    "version": 3
   },
   "file_extension": ".py",
   "mimetype": "text/x-python",
   "name": "python",
   "nbconvert_exporter": "python",
   "pygments_lexer": "ipython3",
   "version": "3.7.3"
  }
 },
 "nbformat": 4,
 "nbformat_minor": 2
}
