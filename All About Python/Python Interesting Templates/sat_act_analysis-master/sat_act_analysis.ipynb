{
 "cells": [
  {
   "cell_type": "code",
   "execution_count": 1,
   "metadata": {},
   "outputs": [],
   "source": [
    "# Import libaries:\n",
    "import numpy as np  # import numpy\n",
    "import pandas as pd # import pandas\n",
    "import satact as sa # import satact module from satact.py file"
   ]
  },
  {
   "cell_type": "code",
   "execution_count": 2,
   "metadata": {},
   "outputs": [],
   "source": [
    "# Read 2017 and 2018 SAT and ACT data csv data as DataFrames using Pandas:\n",
    "sat_17 = pd.read_csv('./data/sat_2017.csv')\n",
    "sat_18 = pd.read_csv('./data/sat_2018.csv')\n",
    "act_17 = pd.read_csv('./data/act_2017.csv')\n",
    "act_18 = pd.read_csv('./data/act_2018.csv')"
   ]
  },
  {
   "cell_type": "code",
   "execution_count": 3,
   "metadata": {},
   "outputs": [],
   "source": [
    "sat_17.name = 'SAT 2017'\n",
    "sat_18.name = 'SAT 2018'\n",
    "act_17.name = 'ACT 2017'\n",
    "act_18.name = 'ACT 2018'\n",
    "\n",
    "sa.sat_17 = sat_17\n",
    "sa.sat_18 = sat_18\n",
    "sa.act_17 = act_17\n",
    "sa.act_18 = act_18"
   ]
  },
  {
   "cell_type": "code",
   "execution_count": 4,
   "metadata": {},
   "outputs": [],
   "source": [
    "# Initialize list of the DataFrame objects we are currently working with.\n",
    "df_list = [sat_17, sat_18, act_17, act_18]"
   ]
  },
  {
   "cell_type": "code",
   "execution_count": 5,
   "metadata": {},
   "outputs": [
    {
     "name": "stdout",
     "output_type": "stream",
     "text": [
      "\tFirst 5 rows of SAT 2017\n",
      "----------------------------------------\n",
      "        State Participation  Evidence-Based Reading and Writing  Math  Total\n",
      "0     Alabama            5%                                 593   572   1165\n",
      "1      Alaska           38%                                 547   533   1080\n",
      "2     Arizona           30%                                 563   553   1116\n",
      "3    Arkansas            3%                                 614   594   1208\n",
      "4  California           53%                                 531   524   1055\n",
      "\n",
      "\tFirst 5 rows of SAT 2018\n",
      "----------------------------------------\n",
      "        State Participation  Evidence-Based Reading and Writing  Math  Total\n",
      "0     Alabama            6%                                 595   571   1166\n",
      "1      Alaska           43%                                 562   544   1106\n",
      "2     Arizona           29%                                 577   572   1149\n",
      "3    Arkansas            5%                                 592   576   1169\n",
      "4  California           60%                                 540   536   1076\n",
      "\n",
      "\tFirst 5 rows of ACT 2017\n",
      "----------------------------------------\n",
      "      State Participation  English  Math  Reading  Science Composite\n",
      "0  National           60%     20.3  20.7     21.4     21.0      21.0\n",
      "1   Alabama          100%     18.9  18.4     19.7     19.4      19.2\n",
      "2    Alaska           65%     18.7  19.8     20.4     19.9      19.8\n",
      "3   Arizona           62%     18.6  19.8     20.1     19.8      19.7\n",
      "4  Arkansas          100%     18.9  19.0     19.7     19.5      19.4\n",
      "\n",
      "\tFirst 5 rows of ACT 2018\n",
      "----------------------------------------\n",
      "           State Participation Composite\n",
      "0          Maine            7%        24\n",
      "1   Rhode Island           15%      24.2\n",
      "2  New Hampshire           16%      25.1\n",
      "3       Delaware           17%      23.8\n",
      "4   Pennsylvania           20%      23.5\n",
      "\n"
     ]
    }
   ],
   "source": [
    "# Preview the first 5 rows of each DataFrame using the print_props function:\n",
    "sa.print_props(df_list, '.head()')"
   ]
  },
  {
   "cell_type": "code",
   "execution_count": 6,
   "metadata": {},
   "outputs": [
    {
     "name": "stdout",
     "output_type": "stream",
     "text": [
      "\tData Types of SAT 2017\n",
      "----------------------------------------\n",
      "State                                 object\n",
      "Participation                         object\n",
      "Evidence-Based Reading and Writing     int64\n",
      "Math                                   int64\n",
      "Total                                  int64\n",
      "dtype: object\n",
      "\n",
      "\tData Types of SAT 2018\n",
      "----------------------------------------\n",
      "State                                 object\n",
      "Participation                         object\n",
      "Evidence-Based Reading and Writing     int64\n",
      "Math                                   int64\n",
      "Total                                  int64\n",
      "dtype: object\n",
      "\n",
      "\tData Types of ACT 2017\n",
      "----------------------------------------\n",
      "State             object\n",
      "Participation     object\n",
      "English          float64\n",
      "Math             float64\n",
      "Reading          float64\n",
      "Science          float64\n",
      "Composite         object\n",
      "dtype: object\n",
      "\n",
      "\tData Types of ACT 2018\n",
      "----------------------------------------\n",
      "State            object\n",
      "Participation    object\n",
      "Composite        object\n",
      "dtype: object\n",
      "\n"
     ]
    }
   ],
   "source": [
    "sa.print_props(df_list, '.dtypes')"
   ]
  },
  {
   "cell_type": "code",
   "execution_count": 7,
   "metadata": {},
   "outputs": [
    {
     "data": {
      "text/plain": [
       "19.8     3\n",
       "21.4     3\n",
       "20.3     3\n",
       "24.1     2\n",
       "24.2     2\n",
       "21.9     2\n",
       "19.7     2\n",
       "21.8     2\n",
       "19.4     2\n",
       "20.4     2\n",
       "23.6     2\n",
       "25.4     1\n",
       "22.3     1\n",
       "19.0     1\n",
       "23.9     1\n",
       "19.2     1\n",
       "19.1     1\n",
       "22.0     1\n",
       "21.0     1\n",
       "23.7     1\n",
       "23.8     1\n",
       "22.8     1\n",
       "20.5     1\n",
       "19.5     1\n",
       "21.5     1\n",
       "17.8     1\n",
       "20.2x    1\n",
       "20.0     1\n",
       "20.8     1\n",
       "22.6     1\n",
       "20.7     1\n",
       "25.5     1\n",
       "25.2     1\n",
       "24.0     1\n",
       "24.3     1\n",
       "18.7     1\n",
       "18.6     1\n",
       "21.7     1\n",
       "Name: Composite, dtype: int64"
      ]
     },
     "execution_count": 7,
     "metadata": {},
     "output_type": "execute_result"
    }
   ],
   "source": [
    "act_17['Composite'].value_counts(ascending=False)"
   ]
  },
  {
   "cell_type": "code",
   "execution_count": 8,
   "metadata": {},
   "outputs": [],
   "source": [
    "act_17['Composite'] = act_17['Composite'].apply(lambda x_cell: x_cell.strip('x'))"
   ]
  },
  {
   "cell_type": "code",
   "execution_count": 9,
   "metadata": {},
   "outputs": [
    {
     "data": {
      "text/plain": [
       "20.3     3\n",
       "20       3\n",
       "23.9     3\n",
       "22.5     2\n",
       "19.4     2\n",
       "24       2\n",
       "19.1     2\n",
       "24.2     2\n",
       "21.3     2\n",
       "19.2     2\n",
       "20.1     1\n",
       "19.3     1\n",
       "23.5     1\n",
       "22.2     1\n",
       "20.5     1\n",
       "25.1     1\n",
       "22.7     1\n",
       "21.9     1\n",
       "21.8     1\n",
       "18.9     1\n",
       "21.6     1\n",
       "19.6     1\n",
       "18.3     1\n",
       "17.7     1\n",
       "19.9     1\n",
       "23.7     1\n",
       "20.2     1\n",
       "20.8     1\n",
       "#REF!    1\n",
       "25.5     1\n",
       "18.6     1\n",
       "25.6     1\n",
       "24.1     1\n",
       "20.7     1\n",
       "23.8     1\n",
       "20.4     1\n",
       "24.5     1\n",
       "23.6     1\n",
       "21.4     1\n",
       "22.3     1\n",
       "Name: Composite, dtype: int64"
      ]
     },
     "execution_count": 9,
     "metadata": {},
     "output_type": "execute_result"
    }
   ],
   "source": [
    "act_18['Composite'].value_counts(ascending=False)"
   ]
  },
  {
   "cell_type": "code",
   "execution_count": 10,
   "metadata": {},
   "outputs": [
    {
     "name": "stdout",
     "output_type": "stream",
     "text": [
      "Values in ACT only: \n",
      "Washington, D.C.\n",
      "National\n",
      "----------------------------\n",
      "Values in SAT only: \n",
      "District of Columbia\n"
     ]
    }
   ],
   "source": [
    "sa.compare_values(act_18['State'], sat_18['State'])"
   ]
  },
  {
   "cell_type": "code",
   "execution_count": 11,
   "metadata": {},
   "outputs": [
    {
     "data": {
      "text/html": [
       "<div>\n",
       "<style scoped>\n",
       "    .dataframe tbody tr th:only-of-type {\n",
       "        vertical-align: middle;\n",
       "    }\n",
       "\n",
       "    .dataframe tbody tr th {\n",
       "        vertical-align: top;\n",
       "    }\n",
       "\n",
       "    .dataframe thead th {\n",
       "        text-align: right;\n",
       "    }\n",
       "</style>\n",
       "<table border=\"1\" class=\"dataframe\">\n",
       "  <thead>\n",
       "    <tr style=\"text-align: right;\">\n",
       "      <th></th>\n",
       "      <th>State</th>\n",
       "      <th>Participation</th>\n",
       "      <th>Composite</th>\n",
       "    </tr>\n",
       "  </thead>\n",
       "  <tbody>\n",
       "    <tr>\n",
       "      <th>23</th>\n",
       "      <td>National</td>\n",
       "      <td>50%</td>\n",
       "      <td>#REF!</td>\n",
       "    </tr>\n",
       "  </tbody>\n",
       "</table>\n",
       "</div>"
      ],
      "text/plain": [
       "       State Participation Composite\n",
       "23  National           50%     #REF!"
      ]
     },
     "execution_count": 11,
     "metadata": {},
     "output_type": "execute_result"
    }
   ],
   "source": [
    "act_18[act_18['State'] == 'National']"
   ]
  },
  {
   "cell_type": "code",
   "execution_count": 12,
   "metadata": {},
   "outputs": [],
   "source": [
    "act_18.drop(act_18.index[23], inplace=True)"
   ]
  },
  {
   "cell_type": "code",
   "execution_count": 13,
   "metadata": {},
   "outputs": [],
   "source": [
    "act_18['State'].replace({'Washington, D.C.': 'District of Columbia'}, inplace=True)"
   ]
  },
  {
   "cell_type": "code",
   "execution_count": 14,
   "metadata": {},
   "outputs": [
    {
     "name": "stdout",
     "output_type": "stream",
     "text": [
      "Values in ACT only: \n",
      "National\n",
      "----------------------------\n",
      "Values in SAT only: \n"
     ]
    }
   ],
   "source": [
    "sa.compare_values(act_17['State'], sat_17['State'])"
   ]
  },
  {
   "cell_type": "code",
   "execution_count": 15,
   "metadata": {},
   "outputs": [
    {
     "data": {
      "text/html": [
       "<div>\n",
       "<style scoped>\n",
       "    .dataframe tbody tr th:only-of-type {\n",
       "        vertical-align: middle;\n",
       "    }\n",
       "\n",
       "    .dataframe tbody tr th {\n",
       "        vertical-align: top;\n",
       "    }\n",
       "\n",
       "    .dataframe thead th {\n",
       "        text-align: right;\n",
       "    }\n",
       "</style>\n",
       "<table border=\"1\" class=\"dataframe\">\n",
       "  <thead>\n",
       "    <tr style=\"text-align: right;\">\n",
       "      <th></th>\n",
       "      <th>State</th>\n",
       "      <th>Participation</th>\n",
       "      <th>English</th>\n",
       "      <th>Math</th>\n",
       "      <th>Reading</th>\n",
       "      <th>Science</th>\n",
       "      <th>Composite</th>\n",
       "    </tr>\n",
       "  </thead>\n",
       "  <tbody>\n",
       "    <tr>\n",
       "      <th>0</th>\n",
       "      <td>National</td>\n",
       "      <td>60%</td>\n",
       "      <td>20.3</td>\n",
       "      <td>20.7</td>\n",
       "      <td>21.4</td>\n",
       "      <td>21.0</td>\n",
       "      <td>21.0</td>\n",
       "    </tr>\n",
       "  </tbody>\n",
       "</table>\n",
       "</div>"
      ],
      "text/plain": [
       "      State Participation  English  Math  Reading  Science Composite\n",
       "0  National           60%     20.3  20.7     21.4     21.0      21.0"
      ]
     },
     "execution_count": 15,
     "metadata": {},
     "output_type": "execute_result"
    }
   ],
   "source": [
    "act_17[act_17['State'] == 'National']"
   ]
  },
  {
   "cell_type": "code",
   "execution_count": 16,
   "metadata": {},
   "outputs": [],
   "source": [
    "act_17.drop(act_17.index[0], inplace=True)"
   ]
  },
  {
   "cell_type": "code",
   "execution_count": 17,
   "metadata": {},
   "outputs": [],
   "source": [
    "act_18.sort_values(by=['State'], inplace=True)\n",
    "sat_18.sort_values(by=['State'], inplace=True)"
   ]
  },
  {
   "cell_type": "code",
   "execution_count": 18,
   "metadata": {},
   "outputs": [],
   "source": [
    "sat_18 = sat_18.reset_index(drop=True)\n",
    "act_18 = act_18.reset_index(drop=True)"
   ]
  },
  {
   "cell_type": "code",
   "execution_count": 19,
   "metadata": {},
   "outputs": [],
   "source": [
    "act_17['Participation'] = sa.fix_participation(act_17['Participation'])\n",
    "act_18['Participation'] = sa.fix_participation(act_18['Participation'])\n",
    "sat_17['Participation'] = sa.fix_participation(sat_17['Participation'])\n",
    "sat_18['Participation'] = sa.fix_participation(sat_18['Participation'])"
   ]
  },
  {
   "cell_type": "code",
   "execution_count": 20,
   "metadata": {},
   "outputs": [
    {
     "name": "stdout",
     "output_type": "stream",
     "text": [
      "\tData Types of SAT 2017\n",
      "----------------------------------------\n",
      "State                                 object\n",
      "Participation                         object\n",
      "Evidence-Based Reading and Writing     int64\n",
      "Math                                   int64\n",
      "Total                                  int64\n",
      "dtype: object\n",
      "\n",
      "\tData Types of SAT 2018\n",
      "----------------------------------------\n",
      "State                                 object\n",
      "Participation                         object\n",
      "Evidence-Based Reading and Writing     int64\n",
      "Math                                   int64\n",
      "Total                                  int64\n",
      "dtype: object\n",
      "\n",
      "\tData Types of ACT 2017\n",
      "----------------------------------------\n",
      "State             object\n",
      "Participation     object\n",
      "English          float64\n",
      "Math             float64\n",
      "Reading          float64\n",
      "Science          float64\n",
      "Composite         object\n",
      "dtype: object\n",
      "\n",
      "\tData Types of ACT 2018\n",
      "----------------------------------------\n",
      "State            object\n",
      "Participation    object\n",
      "Composite        object\n",
      "dtype: object\n",
      "\n"
     ]
    }
   ],
   "source": [
    "sa.print_props(df_list, '.dtypes')"
   ]
  },
  {
   "cell_type": "code",
   "execution_count": 21,
   "metadata": {},
   "outputs": [],
   "source": [
    "act_17 = sa.convert_to_float(act_17)\n",
    "sat_17 = sa.convert_to_float(sat_17)\n",
    "act_18 = sa.convert_to_float(act_18)\n",
    "sat_18 = sa.convert_to_float(sat_18)"
   ]
  },
  {
   "cell_type": "code",
   "execution_count": 22,
   "metadata": {},
   "outputs": [],
   "source": [
    "# df_list = sa.df_list_init(4)\n",
    "df_list = [sat_17, sat_18, act_17, act_18]\n",
    "sat_17.name = 'SAT 2017'\n",
    "sat_18.name = 'SAT 2018'\n",
    "act_17.name = 'ACT 2017'\n",
    "act_18.name = 'ACT 2018'"
   ]
  },
  {
   "cell_type": "code",
   "execution_count": 23,
   "metadata": {},
   "outputs": [
    {
     "name": "stdout",
     "output_type": "stream",
     "text": [
      "\tData Types of SAT 2017\n",
      "----------------------------------------\n",
      "State                                  object\n",
      "Participation                         float64\n",
      "Evidence-Based Reading and Writing    float64\n",
      "Math                                  float64\n",
      "Total                                 float64\n",
      "dtype: object\n",
      "\n",
      "\tData Types of SAT 2018\n",
      "----------------------------------------\n",
      "State                                  object\n",
      "Participation                         float64\n",
      "Evidence-Based Reading and Writing    float64\n",
      "Math                                  float64\n",
      "Total                                 float64\n",
      "dtype: object\n",
      "\n",
      "\tData Types of ACT 2017\n",
      "----------------------------------------\n",
      "State             object\n",
      "Participation    float64\n",
      "English          float64\n",
      "Math             float64\n",
      "Reading          float64\n",
      "Science          float64\n",
      "Composite        float64\n",
      "dtype: object\n",
      "\n",
      "\tData Types of ACT 2018\n",
      "----------------------------------------\n",
      "State             object\n",
      "Participation    float64\n",
      "Composite        float64\n",
      "dtype: object\n",
      "\n"
     ]
    }
   ],
   "source": [
    "sa.print_props(df_list, '.dtypes')"
   ]
  },
  {
   "cell_type": "code",
   "execution_count": 24,
   "metadata": {},
   "outputs": [
    {
     "name": "stdout",
     "output_type": "stream",
     "text": [
      "\tShape of SAT 2017\n",
      "----------------------------------------\n",
      "(51, 5)\n",
      "\n",
      "\tShape of SAT 2018\n",
      "----------------------------------------\n",
      "(51, 5)\n",
      "\n",
      "\tShape of ACT 2017\n",
      "----------------------------------------\n",
      "(51, 7)\n",
      "\n",
      "\tShape of ACT 2018\n",
      "----------------------------------------\n",
      "(52, 3)\n",
      "\n"
     ]
    }
   ],
   "source": [
    "sa.print_props(df_list, '.shape')"
   ]
  },
  {
   "cell_type": "code",
   "execution_count": 25,
   "metadata": {},
   "outputs": [
    {
     "data": {
      "text/plain": [
       "Maine    2\n",
       "Name: State, dtype: int64"
      ]
     },
     "execution_count": 25,
     "metadata": {},
     "output_type": "execute_result"
    }
   ],
   "source": [
    "counts = act_18['State'].value_counts()\n",
    "counts[counts != 1]"
   ]
  },
  {
   "cell_type": "code",
   "execution_count": 26,
   "metadata": {},
   "outputs": [
    {
     "data": {
      "text/html": [
       "<div>\n",
       "<style scoped>\n",
       "    .dataframe tbody tr th:only-of-type {\n",
       "        vertical-align: middle;\n",
       "    }\n",
       "\n",
       "    .dataframe tbody tr th {\n",
       "        vertical-align: top;\n",
       "    }\n",
       "\n",
       "    .dataframe thead th {\n",
       "        text-align: right;\n",
       "    }\n",
       "</style>\n",
       "<table border=\"1\" class=\"dataframe\">\n",
       "  <thead>\n",
       "    <tr style=\"text-align: right;\">\n",
       "      <th></th>\n",
       "      <th>State</th>\n",
       "      <th>Participation</th>\n",
       "      <th>Composite</th>\n",
       "    </tr>\n",
       "  </thead>\n",
       "  <tbody>\n",
       "    <tr>\n",
       "      <th>19</th>\n",
       "      <td>Maine</td>\n",
       "      <td>7.0</td>\n",
       "      <td>24.0</td>\n",
       "    </tr>\n",
       "    <tr>\n",
       "      <th>20</th>\n",
       "      <td>Maine</td>\n",
       "      <td>7.0</td>\n",
       "      <td>24.0</td>\n",
       "    </tr>\n",
       "  </tbody>\n",
       "</table>\n",
       "</div>"
      ],
      "text/plain": [
       "    State  Participation  Composite\n",
       "19  Maine            7.0       24.0\n",
       "20  Maine            7.0       24.0"
      ]
     },
     "execution_count": 26,
     "metadata": {},
     "output_type": "execute_result"
    }
   ],
   "source": [
    "act_18[act_18['State'] == 'Maine']"
   ]
  },
  {
   "cell_type": "code",
   "execution_count": 27,
   "metadata": {},
   "outputs": [],
   "source": [
    "act_18.drop(act_18.index[20], inplace=True)\n",
    "act_18.sort_values(by=['State'], inplace=True)\n",
    "act_18 = act_18.reset_index(drop=True)"
   ]
  },
  {
   "cell_type": "code",
   "execution_count": 28,
   "metadata": {},
   "outputs": [],
   "source": [
    "df_list = [sat_17, sat_18, act_17, act_18]\n",
    "sat_17.name = 'SAT 2017'\n",
    "sat_18.name = 'SAT 2018'\n",
    "act_17.name = 'ACT 2017'\n",
    "act_18.name = 'ACT 2018'"
   ]
  },
  {
   "cell_type": "code",
   "execution_count": 29,
   "metadata": {},
   "outputs": [
    {
     "name": "stdout",
     "output_type": "stream",
     "text": [
      "\tShape of SAT 2017\n",
      "----------------------------------------\n",
      "(51, 5)\n",
      "\n",
      "\tShape of SAT 2018\n",
      "----------------------------------------\n",
      "(51, 5)\n",
      "\n",
      "\tShape of ACT 2017\n",
      "----------------------------------------\n",
      "(51, 7)\n",
      "\n",
      "\tShape of ACT 2018\n",
      "----------------------------------------\n",
      "(51, 3)\n",
      "\n"
     ]
    }
   ],
   "source": [
    "sa.print_props(df_list, '.shape')"
   ]
  },
  {
   "cell_type": "code",
   "execution_count": 30,
   "metadata": {},
   "outputs": [
    {
     "name": "stdout",
     "output_type": "stream",
     "text": [
      "\tNull Values in SAT 2017\n",
      "----------------------------------------\n",
      "State                                 0\n",
      "Participation                         0\n",
      "Evidence-Based Reading and Writing    0\n",
      "Math                                  0\n",
      "Total                                 0\n",
      "dtype: int64\n",
      "\n",
      "\tNull Values in SAT 2018\n",
      "----------------------------------------\n",
      "State                                 0\n",
      "Participation                         0\n",
      "Evidence-Based Reading and Writing    0\n",
      "Math                                  0\n",
      "Total                                 0\n",
      "dtype: int64\n",
      "\n",
      "\tNull Values in ACT 2017\n",
      "----------------------------------------\n",
      "State            0\n",
      "Participation    0\n",
      "English          0\n",
      "Math             0\n",
      "Reading          0\n",
      "Science          0\n",
      "Composite        0\n",
      "dtype: int64\n",
      "\n",
      "\tNull Values in ACT 2018\n",
      "----------------------------------------\n",
      "State            0\n",
      "Participation    0\n",
      "Composite        0\n",
      "dtype: int64\n",
      "\n"
     ]
    }
   ],
   "source": [
    "# Check for missing data:\n",
    "sa.print_props(df_list, '.isnull().sum()')"
   ]
  },
  {
   "cell_type": "code",
   "execution_count": 31,
   "metadata": {},
   "outputs": [],
   "source": [
    "# rename the 2017 ACT columns\n",
    "new_act_17_cols = {\n",
    "    'State':'state',\n",
    "    'Participation':'act_participation_17',\n",
    "    'Composite':'act_composite_17'\n",
    "}\n",
    "act_17.rename(columns=new_act_17_cols, inplace=True)"
   ]
  },
  {
   "cell_type": "code",
   "execution_count": 32,
   "metadata": {},
   "outputs": [],
   "source": [
    "sat_17.drop(columns = ['Evidence-Based Reading and Writing', 'Math'], inplace = True)\n",
    "act_17.drop(columns = ['English', 'Math', 'Reading', 'Science'], inplace = True)"
   ]
  },
  {
   "cell_type": "code",
   "execution_count": 33,
   "metadata": {},
   "outputs": [],
   "source": [
    "# rename the 2017 SAT columns\n",
    "new_sat_17_cols = {\n",
    "    'State':'state',\n",
    "    'Participation':'sat_participation_17',\n",
    "    'Total':'sat_score_17'\n",
    "    }\n",
    "sat_17.rename(columns=new_sat_17_cols, inplace=True)"
   ]
  },
  {
   "cell_type": "code",
   "execution_count": 34,
   "metadata": {},
   "outputs": [],
   "source": [
    "act_17.name = 'ACT 2017'\n",
    "sat_17.name = 'SAT 2017'\n",
    "df_list = [act_17, sat_17]"
   ]
  },
  {
   "cell_type": "code",
   "execution_count": 35,
   "metadata": {},
   "outputs": [
    {
     "name": "stdout",
     "output_type": "stream",
     "text": [
      "\tColumn Features of ACT 2017\n",
      "----------------------------------------\n",
      "Index(['state', 'act_participation_17', 'act_composite_17'], dtype='object')\n",
      "\n",
      "\tColumn Features of SAT 2017\n",
      "----------------------------------------\n",
      "Index(['state', 'sat_participation_17', 'sat_score_17'], dtype='object')\n",
      "\n"
     ]
    }
   ],
   "source": [
    "sa.print_props(df_list, '.columns')"
   ]
  },
  {
   "cell_type": "code",
   "execution_count": 36,
   "metadata": {},
   "outputs": [
    {
     "name": "stdout",
     "output_type": "stream",
     "text": [
      "\tData Types of ACT 2017\n",
      "----------------------------------------\n",
      "state                    object\n",
      "act_participation_17    float64\n",
      "act_composite_17        float64\n",
      "dtype: object\n",
      "\n",
      "\tData Types of SAT 2017\n",
      "----------------------------------------\n",
      "state                    object\n",
      "sat_participation_17    float64\n",
      "sat_score_17            float64\n",
      "dtype: object\n",
      "\n"
     ]
    }
   ],
   "source": [
    "sa.print_props(df_list, '.dtypes')"
   ]
  },
  {
   "cell_type": "code",
   "execution_count": 37,
   "metadata": {},
   "outputs": [
    {
     "name": "stdout",
     "output_type": "stream",
     "text": [
      "\tFirst 5 rows of ACT 2017\n",
      "----------------------------------------\n",
      "        state  act_participation_17  act_composite_17\n",
      "1     Alabama                 100.0              19.2\n",
      "2      Alaska                  65.0              19.8\n",
      "3     Arizona                  62.0              19.7\n",
      "4    Arkansas                 100.0              19.4\n",
      "5  California                  31.0              22.8\n",
      "\n",
      "\tFirst 5 rows of SAT 2017\n",
      "----------------------------------------\n",
      "        state  sat_participation_17  sat_score_17\n",
      "0     Alabama                   5.0        1165.0\n",
      "1      Alaska                  38.0        1080.0\n",
      "2     Arizona                  30.0        1116.0\n",
      "3    Arkansas                   3.0        1208.0\n",
      "4  California                  53.0        1055.0\n",
      "\n"
     ]
    }
   ],
   "source": [
    "sa.print_props(df_list, '.head()')"
   ]
  },
  {
   "cell_type": "code",
   "execution_count": 38,
   "metadata": {},
   "outputs": [
    {
     "name": "stdout",
     "output_type": "stream",
     "text": [
      "\tShape of ACT 2017\n",
      "----------------------------------------\n",
      "(51, 3)\n",
      "\n",
      "\tShape of SAT 2017\n",
      "----------------------------------------\n",
      "(51, 3)\n",
      "\n"
     ]
    }
   ],
   "source": [
    "sa.print_props(df_list, '.shape')"
   ]
  },
  {
   "cell_type": "code",
   "execution_count": 39,
   "metadata": {},
   "outputs": [
    {
     "name": "stdout",
     "output_type": "stream",
     "text": [
      "\tNull Values in ACT 2017\n",
      "----------------------------------------\n",
      "state                   0\n",
      "act_participation_17    0\n",
      "act_composite_17        0\n",
      "dtype: int64\n",
      "\n",
      "\tNull Values in SAT 2017\n",
      "----------------------------------------\n",
      "state                   0\n",
      "sat_participation_17    0\n",
      "sat_score_17            0\n",
      "dtype: int64\n",
      "\n"
     ]
    }
   ],
   "source": [
    "sa.print_props(df_list, '.isnull().sum()')"
   ]
  },
  {
   "cell_type": "code",
   "execution_count": 40,
   "metadata": {},
   "outputs": [],
   "source": [
    "sat_act_17 = pd.merge(sat_17, act_17, left_index=True, on = 'state', how='outer')\n",
    "sat_act_17.name = 'SAT/ACT 2017'\n",
    "sa.sat_act_17 = sat_act_17"
   ]
  },
  {
   "cell_type": "code",
   "execution_count": 41,
   "metadata": {},
   "outputs": [],
   "source": [
    "# rename the 2018 ACT columns\n",
    "new_act_18_cols = {\n",
    "    'State':'state',\n",
    "    'Participation':'act_participation_18',\n",
    "    'Composite':'act_composite_18'\n",
    "}\n",
    "act_18.rename(columns=new_act_18_cols, inplace=True)"
   ]
  },
  {
   "cell_type": "code",
   "execution_count": 42,
   "metadata": {},
   "outputs": [],
   "source": [
    "# rename the 2018 SAT columns\n",
    "new_sat_18_cols = {\n",
    "    'State':'state',\n",
    "    'Participation':'sat_participation_18',\n",
    "    'Total':'sat_score_18'\n",
    "    }\n",
    "sat_18.rename(columns=new_sat_18_cols, inplace=True)"
   ]
  },
  {
   "cell_type": "code",
   "execution_count": 43,
   "metadata": {},
   "outputs": [],
   "source": [
    "df_list = [sat_18, act_18]\n",
    "act_18.name = 'ACT 2018'\n",
    "sat_18.name = 'SAT 2018'"
   ]
  },
  {
   "cell_type": "code",
   "execution_count": 44,
   "metadata": {},
   "outputs": [
    {
     "name": "stdout",
     "output_type": "stream",
     "text": [
      "\tColumn Features of SAT 2018\n",
      "----------------------------------------\n",
      "Index(['state', 'sat_participation_18', 'Evidence-Based Reading and Writing',\n",
      "       'Math', 'sat_score_18'],\n",
      "      dtype='object')\n",
      "\n",
      "\tColumn Features of ACT 2018\n",
      "----------------------------------------\n",
      "Index(['state', 'act_participation_18', 'act_composite_18'], dtype='object')\n",
      "\n"
     ]
    }
   ],
   "source": [
    "sa.print_props(df_list, '.columns')"
   ]
  },
  {
   "cell_type": "code",
   "execution_count": 45,
   "metadata": {},
   "outputs": [],
   "source": [
    "sat_18.drop(columns = ['Evidence-Based Reading and Writing', 'Math'], inplace=True)"
   ]
  },
  {
   "cell_type": "code",
   "execution_count": 46,
   "metadata": {},
   "outputs": [
    {
     "name": "stdout",
     "output_type": "stream",
     "text": [
      "\tColumn Features of SAT 2018\n",
      "----------------------------------------\n",
      "Index(['state', 'sat_participation_18', 'sat_score_18'], dtype='object')\n",
      "\n",
      "\tColumn Features of ACT 2018\n",
      "----------------------------------------\n",
      "Index(['state', 'act_participation_18', 'act_composite_18'], dtype='object')\n",
      "\n"
     ]
    }
   ],
   "source": [
    "sa.print_props(df_list, '.columns')"
   ]
  },
  {
   "cell_type": "code",
   "execution_count": 47,
   "metadata": {},
   "outputs": [
    {
     "name": "stdout",
     "output_type": "stream",
     "text": [
      "\tShape of SAT 2018\n",
      "----------------------------------------\n",
      "(51, 3)\n",
      "\n",
      "\tShape of ACT 2018\n",
      "----------------------------------------\n",
      "(51, 3)\n",
      "\n"
     ]
    }
   ],
   "source": [
    "sa.print_props(df_list, '.shape')"
   ]
  },
  {
   "cell_type": "code",
   "execution_count": 48,
   "metadata": {},
   "outputs": [
    {
     "name": "stdout",
     "output_type": "stream",
     "text": [
      "\tData Types of SAT 2018\n",
      "----------------------------------------\n",
      "state                    object\n",
      "sat_participation_18    float64\n",
      "sat_score_18            float64\n",
      "dtype: object\n",
      "\n",
      "\tData Types of ACT 2018\n",
      "----------------------------------------\n",
      "state                    object\n",
      "act_participation_18    float64\n",
      "act_composite_18        float64\n",
      "dtype: object\n",
      "\n"
     ]
    }
   ],
   "source": [
    "sa.print_props(df_list, '.dtypes')"
   ]
  },
  {
   "cell_type": "code",
   "execution_count": 49,
   "metadata": {},
   "outputs": [
    {
     "name": "stdout",
     "output_type": "stream",
     "text": [
      "\tNull Values in SAT 2018\n",
      "----------------------------------------\n",
      "state                   0\n",
      "sat_participation_18    0\n",
      "sat_score_18            0\n",
      "dtype: int64\n",
      "\n",
      "\tNull Values in ACT 2018\n",
      "----------------------------------------\n",
      "state                   0\n",
      "act_participation_18    0\n",
      "act_composite_18        0\n",
      "dtype: int64\n",
      "\n"
     ]
    }
   ],
   "source": [
    "sa.print_props(df_list, '.isnull().sum()')"
   ]
  },
  {
   "cell_type": "code",
   "execution_count": 50,
   "metadata": {},
   "outputs": [],
   "source": [
    "sat_act_18 = pd.merge(sat_18, act_18, left_index=True, on = 'state', how='outer')\n",
    "sat_act_18 = sat_act_18.reset_index(drop=True)\n",
    "sa.sat_act_18 = sat_act_18"
   ]
  },
  {
   "cell_type": "code",
   "execution_count": 51,
   "metadata": {},
   "outputs": [],
   "source": [
    "# df_list = sa.df_list_init(2)\n",
    "df_list = [sat_act_17, sat_act_18]\n",
    "sat_act_18.name = 'SAT/ACT 2018'"
   ]
  },
  {
   "cell_type": "code",
   "execution_count": 52,
   "metadata": {},
   "outputs": [
    {
     "name": "stdout",
     "output_type": "stream",
     "text": [
      "\tColumn Features of SAT/ACT 2017\n",
      "----------------------------------------\n",
      "Index(['state', 'sat_participation_17', 'sat_score_17', 'act_participation_17',\n",
      "       'act_composite_17'],\n",
      "      dtype='object')\n",
      "\n",
      "\tColumn Features of SAT/ACT 2018\n",
      "----------------------------------------\n",
      "Index(['state', 'sat_participation_18', 'sat_score_18', 'act_participation_18',\n",
      "       'act_composite_18'],\n",
      "      dtype='object')\n",
      "\n"
     ]
    }
   ],
   "source": [
    "sa.print_props(df_list, '.columns')"
   ]
  },
  {
   "cell_type": "code",
   "execution_count": 53,
   "metadata": {},
   "outputs": [
    {
     "name": "stdout",
     "output_type": "stream",
     "text": [
      "\tFirst 5 rows of SAT/ACT 2017\n",
      "----------------------------------------\n",
      "        state  sat_participation_17  sat_score_17  act_participation_17  \\\n",
      "1     Alabama                   5.0        1165.0                 100.0   \n",
      "2      Alaska                  38.0        1080.0                  65.0   \n",
      "3     Arizona                  30.0        1116.0                  62.0   \n",
      "4    Arkansas                   3.0        1208.0                 100.0   \n",
      "5  California                  53.0        1055.0                  31.0   \n",
      "\n",
      "   act_composite_17  \n",
      "1              19.2  \n",
      "2              19.8  \n",
      "3              19.7  \n",
      "4              19.4  \n",
      "5              22.8  \n",
      "\n",
      "\tFirst 5 rows of SAT/ACT 2018\n",
      "----------------------------------------\n",
      "        state  sat_participation_18  sat_score_18  act_participation_18  \\\n",
      "0     Alabama                   6.0        1166.0                 100.0   \n",
      "1      Alaska                  43.0        1106.0                  33.0   \n",
      "2     Arizona                  29.0        1149.0                  66.0   \n",
      "3    Arkansas                   5.0        1169.0                 100.0   \n",
      "4  California                  60.0        1076.0                  27.0   \n",
      "\n",
      "   act_composite_18  \n",
      "0              19.1  \n",
      "1              20.8  \n",
      "2              19.2  \n",
      "3              19.4  \n",
      "4              22.7  \n",
      "\n"
     ]
    }
   ],
   "source": [
    "sa.print_props(df_list, '.head()')"
   ]
  },
  {
   "cell_type": "code",
   "execution_count": 54,
   "metadata": {},
   "outputs": [
    {
     "name": "stdout",
     "output_type": "stream",
     "text": [
      "\tShape of SAT/ACT 2017\n",
      "----------------------------------------\n",
      "(51, 5)\n",
      "\n",
      "\tShape of SAT/ACT 2018\n",
      "----------------------------------------\n",
      "(51, 5)\n",
      "\n"
     ]
    }
   ],
   "source": [
    "sa.print_props(df_list, '.shape')"
   ]
  },
  {
   "cell_type": "code",
   "execution_count": 55,
   "metadata": {},
   "outputs": [
    {
     "name": "stdout",
     "output_type": "stream",
     "text": [
      "\tData Types of SAT/ACT 2017\n",
      "----------------------------------------\n",
      "state                    object\n",
      "sat_participation_17    float64\n",
      "sat_score_17            float64\n",
      "act_participation_17    float64\n",
      "act_composite_17        float64\n",
      "dtype: object\n",
      "\n",
      "\tData Types of SAT/ACT 2018\n",
      "----------------------------------------\n",
      "state                    object\n",
      "sat_participation_18    float64\n",
      "sat_score_18            float64\n",
      "act_participation_18    float64\n",
      "act_composite_18        float64\n",
      "dtype: object\n",
      "\n"
     ]
    }
   ],
   "source": [
    "sa.print_props(df_list, '.dtypes')"
   ]
  },
  {
   "cell_type": "code",
   "execution_count": 56,
   "metadata": {},
   "outputs": [
    {
     "name": "stdout",
     "output_type": "stream",
     "text": [
      "\tNull Values in SAT/ACT 2017\n",
      "----------------------------------------\n",
      "state                   0\n",
      "sat_participation_17    0\n",
      "sat_score_17            0\n",
      "act_participation_17    0\n",
      "act_composite_17        0\n",
      "dtype: int64\n",
      "\n",
      "\tNull Values in SAT/ACT 2018\n",
      "----------------------------------------\n",
      "state                   0\n",
      "sat_participation_18    0\n",
      "sat_score_18            0\n",
      "act_participation_18    0\n",
      "act_composite_18        0\n",
      "dtype: int64\n",
      "\n"
     ]
    }
   ],
   "source": [
    "sa.print_props(df_list, '.isnull().sum()')"
   ]
  },
  {
   "cell_type": "code",
   "execution_count": 57,
   "metadata": {},
   "outputs": [],
   "source": [
    "sat_act_17.to_csv('./data/sat_act_17.csv', encoding='utf-8', index = False)\n",
    "sat_act_18.to_csv('./data/sat_act_18.csv', encoding='utf-8', index = False)"
   ]
  },
  {
   "cell_type": "code",
   "execution_count": 58,
   "metadata": {},
   "outputs": [
    {
     "data": {
      "text/html": [
       "<div>\n",
       "<style scoped>\n",
       "    .dataframe tbody tr th:only-of-type {\n",
       "        vertical-align: middle;\n",
       "    }\n",
       "\n",
       "    .dataframe tbody tr th {\n",
       "        vertical-align: top;\n",
       "    }\n",
       "\n",
       "    .dataframe thead th {\n",
       "        text-align: right;\n",
       "    }\n",
       "</style>\n",
       "<table border=\"1\" class=\"dataframe\">\n",
       "  <thead>\n",
       "    <tr style=\"text-align: right;\">\n",
       "      <th></th>\n",
       "      <th>state</th>\n",
       "      <th>sat_participation_17</th>\n",
       "      <th>sat_score_17</th>\n",
       "      <th>act_participation_17</th>\n",
       "      <th>act_composite_17</th>\n",
       "      <th>sat_participation_18</th>\n",
       "      <th>sat_score_18</th>\n",
       "      <th>act_participation_18</th>\n",
       "      <th>act_composite_18</th>\n",
       "    </tr>\n",
       "  </thead>\n",
       "  <tbody>\n",
       "    <tr>\n",
       "      <th>0</th>\n",
       "      <td>Alabama</td>\n",
       "      <td>5.0</td>\n",
       "      <td>1165.0</td>\n",
       "      <td>100.0</td>\n",
       "      <td>19.2</td>\n",
       "      <td>6.0</td>\n",
       "      <td>1166.0</td>\n",
       "      <td>100.0</td>\n",
       "      <td>19.1</td>\n",
       "    </tr>\n",
       "    <tr>\n",
       "      <th>1</th>\n",
       "      <td>Alaska</td>\n",
       "      <td>38.0</td>\n",
       "      <td>1080.0</td>\n",
       "      <td>65.0</td>\n",
       "      <td>19.8</td>\n",
       "      <td>43.0</td>\n",
       "      <td>1106.0</td>\n",
       "      <td>33.0</td>\n",
       "      <td>20.8</td>\n",
       "    </tr>\n",
       "    <tr>\n",
       "      <th>2</th>\n",
       "      <td>Arizona</td>\n",
       "      <td>30.0</td>\n",
       "      <td>1116.0</td>\n",
       "      <td>62.0</td>\n",
       "      <td>19.7</td>\n",
       "      <td>29.0</td>\n",
       "      <td>1149.0</td>\n",
       "      <td>66.0</td>\n",
       "      <td>19.2</td>\n",
       "    </tr>\n",
       "    <tr>\n",
       "      <th>3</th>\n",
       "      <td>Arkansas</td>\n",
       "      <td>3.0</td>\n",
       "      <td>1208.0</td>\n",
       "      <td>100.0</td>\n",
       "      <td>19.4</td>\n",
       "      <td>5.0</td>\n",
       "      <td>1169.0</td>\n",
       "      <td>100.0</td>\n",
       "      <td>19.4</td>\n",
       "    </tr>\n",
       "    <tr>\n",
       "      <th>4</th>\n",
       "      <td>California</td>\n",
       "      <td>53.0</td>\n",
       "      <td>1055.0</td>\n",
       "      <td>31.0</td>\n",
       "      <td>22.8</td>\n",
       "      <td>60.0</td>\n",
       "      <td>1076.0</td>\n",
       "      <td>27.0</td>\n",
       "      <td>22.7</td>\n",
       "    </tr>\n",
       "  </tbody>\n",
       "</table>\n",
       "</div>"
      ],
      "text/plain": [
       "        state  sat_participation_17  sat_score_17  act_participation_17  \\\n",
       "0     Alabama                   5.0        1165.0                 100.0   \n",
       "1      Alaska                  38.0        1080.0                  65.0   \n",
       "2     Arizona                  30.0        1116.0                  62.0   \n",
       "3    Arkansas                   3.0        1208.0                 100.0   \n",
       "4  California                  53.0        1055.0                  31.0   \n",
       "\n",
       "   act_composite_17  sat_participation_18  sat_score_18  act_participation_18  \\\n",
       "0              19.2                   6.0        1166.0                 100.0   \n",
       "1              19.8                  43.0        1106.0                  33.0   \n",
       "2              19.7                  29.0        1149.0                  66.0   \n",
       "3              19.4                   5.0        1169.0                 100.0   \n",
       "4              22.8                  60.0        1076.0                  27.0   \n",
       "\n",
       "   act_composite_18  \n",
       "0              19.1  \n",
       "1              20.8  \n",
       "2              19.2  \n",
       "3              19.4  \n",
       "4              22.7  "
      ]
     },
     "execution_count": 58,
     "metadata": {},
     "output_type": "execute_result"
    }
   ],
   "source": [
    "df = pd.merge(sat_act_17, sat_act_18, left_index=True, on = 'state', how='outer')\n",
    "df.head()"
   ]
  },
  {
   "cell_type": "code",
   "execution_count": 59,
   "metadata": {},
   "outputs": [
    {
     "data": {
      "text/plain": [
       "Series([], Name: state, dtype: int64)"
      ]
     },
     "execution_count": 59,
     "metadata": {},
     "output_type": "execute_result"
    }
   ],
   "source": [
    "# Verify sat_act merge.\n",
    "counts = df['state'].value_counts()\n",
    "counts[counts != 1]"
   ]
  },
  {
   "cell_type": "code",
   "execution_count": 60,
   "metadata": {},
   "outputs": [
    {
     "data": {
      "text/plain": [
       "state                   0\n",
       "sat_participation_17    0\n",
       "sat_score_17            0\n",
       "act_participation_17    0\n",
       "act_composite_17        0\n",
       "sat_participation_18    0\n",
       "sat_score_18            0\n",
       "act_participation_18    0\n",
       "act_composite_18        0\n",
       "dtype: int64"
      ]
     },
     "execution_count": 60,
     "metadata": {},
     "output_type": "execute_result"
    }
   ],
   "source": [
    "df.isnull().sum()"
   ]
  },
  {
   "cell_type": "code",
   "execution_count": 61,
   "metadata": {},
   "outputs": [
    {
     "data": {
      "text/plain": [
       "(51, 9)"
      ]
     },
     "execution_count": 61,
     "metadata": {},
     "output_type": "execute_result"
    }
   ],
   "source": [
    "df.shape"
   ]
  },
  {
   "cell_type": "code",
   "execution_count": 62,
   "metadata": {},
   "outputs": [
    {
     "data": {
      "text/plain": [
       "state                    object\n",
       "sat_participation_17    float64\n",
       "sat_score_17            float64\n",
       "act_participation_17    float64\n",
       "act_composite_17        float64\n",
       "sat_participation_18    float64\n",
       "sat_score_18            float64\n",
       "act_participation_18    float64\n",
       "act_composite_18        float64\n",
       "dtype: object"
      ]
     },
     "execution_count": 62,
     "metadata": {},
     "output_type": "execute_result"
    }
   ],
   "source": [
    "df.dtypes"
   ]
  },
  {
   "cell_type": "code",
   "execution_count": 63,
   "metadata": {},
   "outputs": [],
   "source": [
    "# df.to_csv('./data/sat_act_2017_2018.csv', encoding='utf-8', index = False)"
   ]
  },
  {
   "cell_type": "code",
   "execution_count": 65,
   "metadata": {},
   "outputs": [
    {
     "data": {
      "text/plain": [
       "9     Florida\n",
       "10    Georgia\n",
       "11     Hawaii\n",
       "Name: state, dtype: object"
      ]
     },
     "execution_count": 65,
     "metadata": {},
     "output_type": "execute_result"
    }
   ],
   "source": [
    "# States that have >50% participation rates on both the SAT and ACT in 2017:\n",
    "sa.half_of_both(df, 'sat_participation_17', 'act_participation_17')"
   ]
  },
  {
   "cell_type": "code",
   "execution_count": 66,
   "metadata": {},
   "outputs": [
    {
     "data": {
      "text/plain": [
       "9            Florida\n",
       "10           Georgia\n",
       "11            Hawaii\n",
       "33    North Carolina\n",
       "40    South Carolina\n",
       "Name: state, dtype: object"
      ]
     },
     "execution_count": 66,
     "metadata": {},
     "output_type": "execute_result"
    }
   ],
   "source": [
    "# States that have >50% participation rates on both the SAT and ACT in 2018:\n",
    "sa.half_of_both(df, 'sat_participation_18', 'act_participation_18')"
   ]
  },
  {
   "cell_type": "code",
   "execution_count": 67,
   "metadata": {},
   "outputs": [
    {
     "data": {
      "text/plain": [
       "37    Oregon\n",
       "Name: state, dtype: object"
      ]
     },
     "execution_count": 67,
     "metadata": {},
     "output_type": "execute_result"
    }
   ],
   "source": [
    "# States that have <50% participation rates on both the SAT and ACT in 2017:\n",
    "sa.half_of_both(df, 'sat_participation_17', 'act_participation_17', False)"
   ]
  },
  {
   "cell_type": "code",
   "execution_count": 68,
   "metadata": {},
   "outputs": [
    {
     "data": {
      "text/plain": [
       "1     Alaska\n",
       "37    Oregon\n",
       "Name: state, dtype: object"
      ]
     },
     "execution_count": 68,
     "metadata": {},
     "output_type": "execute_result"
    }
   ],
   "source": [
    "# States that have <50% participation rates on both the SAT and ACT in 2018:\n",
    "sa.half_of_both(df, 'sat_participation_18', 'act_participation_18', False)"
   ]
  },
  {
   "cell_type": "code",
   "execution_count": 69,
   "metadata": {},
   "outputs": [
    {
     "data": {
      "text/plain": [
       "6     Connecticut\n",
       "7        Delaware\n",
       "22       Michigan\n",
       "Name: state, dtype: object"
      ]
     },
     "execution_count": 69,
     "metadata": {},
     "output_type": "execute_result"
    }
   ],
   "source": [
    "# States with 100% SAT participation in both 2017 and 2018\n",
    "sa.perfect_scores(df, 'sat_participation_17', 'sat_participation_18')"
   ]
  },
  {
   "cell_type": "code",
   "execution_count": 70,
   "metadata": {},
   "outputs": [
    {
     "data": {
      "text/plain": [
       "0            Alabama\n",
       "3           Arkansas\n",
       "17          Kentucky\n",
       "18         Louisiana\n",
       "24       Mississippi\n",
       "25          Missouri\n",
       "26           Montana\n",
       "28            Nevada\n",
       "33    North Carolina\n",
       "36          Oklahoma\n",
       "40    South Carolina\n",
       "42         Tennessee\n",
       "44              Utah\n",
       "49         Wisconsin\n",
       "50           Wyoming\n",
       "Name: state, dtype: object"
      ]
     },
     "execution_count": 70,
     "metadata": {},
     "output_type": "execute_result"
    }
   ],
   "source": [
    "# States with 100% ACT participation in both 2017 and 2018\n",
    "sa.perfect_scores(df, 'act_participation_17', 'act_participation_18')"
   ]
  },
  {
   "cell_type": "code",
   "execution_count": 71,
   "metadata": {},
   "outputs": [
    {
     "data": {
      "text/plain": [
       "6              Connecticut\n",
       "7                 Delaware\n",
       "8     District of Columbia\n",
       "22                Michigan\n",
       "Name: state, dtype: object"
      ]
     },
     "execution_count": 71,
     "metadata": {},
     "output_type": "execute_result"
    }
   ],
   "source": [
    "# States with 100% SAT participation rates in 2017.\n",
    "df[df['sat_participation_17'] == 100.0]['state']"
   ]
  },
  {
   "cell_type": "code",
   "execution_count": 72,
   "metadata": {},
   "outputs": [
    {
     "data": {
      "text/plain": [
       "5        Colorado\n",
       "6     Connecticut\n",
       "7        Delaware\n",
       "12          Idaho\n",
       "22       Michigan\n",
       "Name: state, dtype: object"
      ]
     },
     "execution_count": 72,
     "metadata": {},
     "output_type": "execute_result"
    }
   ],
   "source": [
    "# States with 100% SAT participation rates in 2018.\n",
    "df[df['sat_participation_18'] == 100.0]['state']"
   ]
  },
  {
   "cell_type": "code",
   "execution_count": 73,
   "metadata": {},
   "outputs": [
    {
     "data": {
      "text/plain": [
       "0          Alabama\n",
       "3         Arkansas\n",
       "13        Illinois\n",
       "15            Iowa\n",
       "16          Kansas\n",
       "17        Kentucky\n",
       "18       Louisiana\n",
       "23       Minnesota\n",
       "24     Mississippi\n",
       "25        Missouri\n",
       "27        Nebraska\n",
       "34    North Dakota\n",
       "36        Oklahoma\n",
       "41    South Dakota\n",
       "42       Tennessee\n",
       "44            Utah\n",
       "49       Wisconsin\n",
       "50         Wyoming\n",
       "Name: state, dtype: object"
      ]
     },
     "execution_count": 73,
     "metadata": {},
     "output_type": "execute_result"
    }
   ],
   "source": [
    "# States with less than 10% SAT participation rates in 2017.\n",
    "df[df['sat_participation_17'] < 10.0]['state']"
   ]
  },
  {
   "cell_type": "code",
   "execution_count": 74,
   "metadata": {},
   "outputs": [
    {
     "data": {
      "text/plain": [
       "0          Alabama\n",
       "3         Arkansas\n",
       "15            Iowa\n",
       "16          Kansas\n",
       "17        Kentucky\n",
       "18       Louisiana\n",
       "23       Minnesota\n",
       "24     Mississippi\n",
       "25        Missouri\n",
       "27        Nebraska\n",
       "34    North Dakota\n",
       "36        Oklahoma\n",
       "41    South Dakota\n",
       "42       Tennessee\n",
       "44            Utah\n",
       "49       Wisconsin\n",
       "50         Wyoming\n",
       "Name: state, dtype: object"
      ]
     },
     "execution_count": 74,
     "metadata": {},
     "output_type": "execute_result"
    }
   ],
   "source": [
    "# States with the lowest SAT participation rates in 2018, less than 10%.\n",
    "df[df['sat_participation_18'] < 10.0]['state']"
   ]
  },
  {
   "cell_type": "code",
   "execution_count": 75,
   "metadata": {},
   "outputs": [
    {
     "data": {
      "text/plain": [
       "0            Alabama\n",
       "3           Arkansas\n",
       "5           Colorado\n",
       "17          Kentucky\n",
       "18         Louisiana\n",
       "23         Minnesota\n",
       "24       Mississippi\n",
       "25          Missouri\n",
       "26           Montana\n",
       "28            Nevada\n",
       "33    North Carolina\n",
       "36          Oklahoma\n",
       "40    South Carolina\n",
       "42         Tennessee\n",
       "44              Utah\n",
       "49         Wisconsin\n",
       "50           Wyoming\n",
       "Name: state, dtype: object"
      ]
     },
     "execution_count": 75,
     "metadata": {},
     "output_type": "execute_result"
    }
   ],
   "source": [
    "# States with 100% ACT participation rates in 2017.\n",
    "df[df['act_participation_17'] == 100.0]['state']"
   ]
  },
  {
   "cell_type": "code",
   "execution_count": 76,
   "metadata": {},
   "outputs": [
    {
     "data": {
      "text/plain": [
       "0            Alabama\n",
       "3           Arkansas\n",
       "17          Kentucky\n",
       "18         Louisiana\n",
       "24       Mississippi\n",
       "25          Missouri\n",
       "26           Montana\n",
       "27          Nebraska\n",
       "28            Nevada\n",
       "33    North Carolina\n",
       "35              Ohio\n",
       "36          Oklahoma\n",
       "40    South Carolina\n",
       "42         Tennessee\n",
       "44              Utah\n",
       "49         Wisconsin\n",
       "50           Wyoming\n",
       "Name: state, dtype: object"
      ]
     },
     "execution_count": 76,
     "metadata": {},
     "output_type": "execute_result"
    }
   ],
   "source": [
    "# States with 100% ACT participation rates in 2018.\n",
    "df[df['act_participation_18'] == 100.0]['state']"
   ]
  },
  {
   "cell_type": "code",
   "execution_count": 77,
   "metadata": {},
   "outputs": [
    {
     "data": {
      "text/plain": [
       "19    Maine\n",
       "Name: state, dtype: object"
      ]
     },
     "execution_count": 77,
     "metadata": {},
     "output_type": "execute_result"
    }
   ],
   "source": [
    "# States with the lowest ACT participation rates in 2017, less than 10%.\n",
    "df[df['act_participation_17'] < 10.0]['state']"
   ]
  },
  {
   "cell_type": "code",
   "execution_count": 78,
   "metadata": {},
   "outputs": [
    {
     "data": {
      "text/plain": [
       "19    Maine\n",
       "Name: state, dtype: object"
      ]
     },
     "execution_count": 78,
     "metadata": {},
     "output_type": "execute_result"
    }
   ],
   "source": [
    "# States with the lowest ACT participation rates in 2018, less than 10%.\n",
    "df[df['act_participation_18'] < 10.0]['state']"
   ]
  },
  {
   "cell_type": "code",
   "execution_count": 79,
   "metadata": {},
   "outputs": [
    {
     "data": {
      "text/plain": [
       "7                 Delaware\n",
       "8     District of Columbia\n",
       "9                  Florida\n",
       "12                   Idaho\n",
       "19                   Maine\n",
       "22                Michigan\n",
       "43                   Texas\n",
       "Name: state, dtype: object"
      ]
     },
     "execution_count": 79,
     "metadata": {},
     "output_type": "execute_result"
    }
   ],
   "source": [
    "# 2017 SAT lowest average scores per state:\n",
    "sa.worst_averages(df, 'sat_score_17')"
   ]
  },
  {
   "cell_type": "code",
   "execution_count": 80,
   "metadata": {},
   "outputs": [
    {
     "data": {
      "text/plain": [
       "0            Alabama\n",
       "3           Arkansas\n",
       "11            Hawaii\n",
       "24       Mississippi\n",
       "28            Nevada\n",
       "33    North Carolina\n",
       "36          Oklahoma\n",
       "40    South Carolina\n",
       "Name: state, dtype: object"
      ]
     },
     "execution_count": 80,
     "metadata": {},
     "output_type": "execute_result"
    }
   ],
   "source": [
    "# 2017 ACT lowest average scores per state:\n",
    "sa.worst_averages(df, 'act_composite_17')"
   ]
  },
  {
   "cell_type": "code",
   "execution_count": 81,
   "metadata": {},
   "outputs": [
    {
     "data": {
      "text/plain": [
       "5                 Colorado\n",
       "7                 Delaware\n",
       "8     District of Columbia\n",
       "11                  Hawaii\n",
       "12                   Idaho\n",
       "13                Illinois\n",
       "19                   Maine\n",
       "22                Michigan\n",
       "39            Rhode Island\n",
       "44                    Utah\n",
       "48           West Virginia\n",
       "Name: state, dtype: object"
      ]
     },
     "execution_count": 81,
     "metadata": {},
     "output_type": "execute_result"
    }
   ],
   "source": [
    "# 2018 SAT lowest average scores per state:\n",
    "sa.worst_averages(df, 'sat_score_18')"
   ]
  },
  {
   "cell_type": "code",
   "execution_count": 82,
   "metadata": {},
   "outputs": [
    {
     "data": {
      "text/plain": [
       "0            Alabama\n",
       "2            Arizona\n",
       "11            Hawaii\n",
       "18         Louisiana\n",
       "24       Mississippi\n",
       "28            Nevada\n",
       "33    North Carolina\n",
       "36          Oklahoma\n",
       "40    South Carolina\n",
       "Name: state, dtype: object"
      ]
     },
     "execution_count": 82,
     "metadata": {},
     "output_type": "execute_result"
    }
   ],
   "source": [
    "# 2018 ACT lowest average scores per state:\n",
    "sa.worst_averages(df, 'act_composite_18')"
   ]
  },
  {
   "cell_type": "code",
   "execution_count": 83,
   "metadata": {},
   "outputs": [
    {
     "data": {
      "text/plain": [
       "15            Iowa\n",
       "16          Kansas\n",
       "17        Kentucky\n",
       "23       Minnesota\n",
       "24     Mississippi\n",
       "25        Missouri\n",
       "27        Nebraska\n",
       "34    North Dakota\n",
       "42       Tennessee\n",
       "44            Utah\n",
       "49       Wisconsin\n",
       "50         Wyoming\n",
       "Name: state, dtype: object"
      ]
     },
     "execution_count": 83,
     "metadata": {},
     "output_type": "execute_result"
    }
   ],
   "source": [
    "# 2017 SAT highest average scores per state:\n",
    "sa.top_averages(df, 'sat_score_17')"
   ]
  },
  {
   "cell_type": "code",
   "execution_count": 84,
   "metadata": {},
   "outputs": [
    {
     "data": {
      "text/plain": [
       "6              Connecticut\n",
       "7                 Delaware\n",
       "8     District of Columbia\n",
       "19                   Maine\n",
       "20                Maryland\n",
       "21           Massachusetts\n",
       "22                Michigan\n",
       "29           New Hampshire\n",
       "30              New Jersey\n",
       "32                New York\n",
       "38            Pennsylvania\n",
       "39            Rhode Island\n",
       "45                 Vermont\n",
       "46                Virginia\n",
       "Name: state, dtype: object"
      ]
     },
     "execution_count": 84,
     "metadata": {},
     "output_type": "execute_result"
    }
   ],
   "source": [
    "# 2017 ACT highest average scores per state:\n",
    "sa.top_averages(df, 'act_composite_17')"
   ]
  },
  {
   "cell_type": "code",
   "execution_count": 85,
   "metadata": {},
   "outputs": [
    {
     "data": {
      "text/plain": [
       "15            Iowa\n",
       "16          Kansas\n",
       "17        Kentucky\n",
       "23       Minnesota\n",
       "24     Mississippi\n",
       "25        Missouri\n",
       "27        Nebraska\n",
       "34    North Dakota\n",
       "41    South Dakota\n",
       "42       Tennessee\n",
       "49       Wisconsin\n",
       "50         Wyoming\n",
       "Name: state, dtype: object"
      ]
     },
     "execution_count": 85,
     "metadata": {},
     "output_type": "execute_result"
    }
   ],
   "source": [
    "# 2018 SAT highest average scores per state:\n",
    "sa.top_averages(df, 'sat_score_18')"
   ]
  },
  {
   "cell_type": "code",
   "execution_count": 86,
   "metadata": {},
   "outputs": [
    {
     "data": {
      "text/plain": [
       "5          Colorado\n",
       "6       Connecticut\n",
       "7          Delaware\n",
       "13         Illinois\n",
       "19            Maine\n",
       "21    Massachusetts\n",
       "22         Michigan\n",
       "29    New Hampshire\n",
       "30       New Jersey\n",
       "32         New York\n",
       "39     Rhode Island\n",
       "45          Vermont\n",
       "46         Virginia\n",
       "Name: state, dtype: object"
      ]
     },
     "execution_count": 86,
     "metadata": {},
     "output_type": "execute_result"
    }
   ],
   "source": [
    "# 2018 ACT highest average scores per state:\n",
    "sa.top_averages(df, 'act_composite_18')"
   ]
  },
  {
   "cell_type": "code",
   "execution_count": 87,
   "metadata": {},
   "outputs": [],
   "source": [
    "import seaborn as sns\n",
    "import matplotlib.pyplot as plt\n",
    "%matplotlib inline"
   ]
  },
  {
   "cell_type": "code",
   "execution_count": 88,
   "metadata": {},
   "outputs": [
    {
     "data": {
      "image/png": "[encoded data removed]",
      "text/plain": [
       "<Figure size 1080x720 with 2 Axes>"
      ]
     },
     "metadata": {
      "needs_background": "light"
     },
     "output_type": "display_data"
    }
   ],
   "source": [
    "plt.figure(figsize = (15,10))\n",
    "plt.title('SAT and ACT Correlation Heatmap', fontsize = 16);\n",
    "\n",
    "# Mask to remove redundancy from the heatmap.\n",
    "mask = np.zeros_like(df.corr(), dtype=np.bool)\n",
    "mask[np.triu_indices_from(mask)] = True\n",
    "sns.heatmap(df.corr(), mask=mask, vmin=-1, vmax = 1, cmap = \"coolwarm\",  annot = True);\n",
    "plt.savefig('./images/sat_act_heatmap.png')"
   ]
  },
  {
   "cell_type": "code",
   "execution_count": 89,
   "metadata": {},
   "outputs": [
    {
     "data": {
      "image/png": "[encoded data removed]",
      "text/plain": [
       "<Figure size 576x432 with 2 Axes>"
      ]
     },
     "metadata": {
      "needs_background": "light"
     },
     "output_type": "display_data"
    }
   ],
   "source": [
    "plt.figure(figsize = (8,6))\n",
    "features = ['sat_participation_17', 'sat_participation_18', 'act_participation_17', 'act_participation_18']\n",
    "plt.title('SAT and ACT Participation Rate Correlations', fontsize = 16);\n",
    "mask = np.zeros_like(df[features].corr(), dtype=np.bool)\n",
    "mask[np.triu_indices_from(mask)] = True\n",
    "sns.heatmap(df[features].corr(), mask=mask, vmin=-1, vmax = 1, cmap = \"coolwarm\",  annot = True);\n",
    "plt.savefig('./images/participation_heatmap.png')"
   ]
  },
  {
   "cell_type": "code",
   "execution_count": 90,
   "metadata": {},
   "outputs": [
    {
     "data": {
      "image/png": "[encoded data removed]",
      "text/plain": [
       "<Figure size 576x432 with 2 Axes>"
      ]
     },
     "metadata": {
      "needs_background": "light"
     },
     "output_type": "display_data"
    }
   ],
   "source": [
    "plt.figure(figsize = (8,6))\n",
    "features = ['sat_score_17', 'sat_score_18', 'act_composite_17', 'act_composite_18']\n",
    "plt.title('Average SAT Score vs Average ACT Composite Score Correlations', fontsize = 16);\n",
    "mask = np.zeros_like(df[features].corr(), dtype=np.bool)\n",
    "mask[np.triu_indices_from(mask)] = True\n",
    "sns.heatmap(df[features].corr(), mask=mask, vmin=-1, vmax = 1, cmap = \"coolwarm\",  annot = True);\n",
    "plt.savefig('./images/score_vs_composite_heatmap.png')"
   ]
  },
  {
   "cell_type": "code",
   "execution_count": 91,
   "metadata": {},
   "outputs": [
    {
     "data": {
      "image/png": "[encoded data removed]",
      "text/plain": [
       "<Figure size 864x576 with 4 Axes>"
      ]
     },
     "metadata": {
      "needs_background": "light"
     },
     "output_type": "display_data"
    }
   ],
   "source": [
    "# Boxplots comparing the average participation rates of the 2017 ACT, 2018 ACT, 2017 SAT, and 2018 SAT.\n",
    "fig, ax = plt.subplots(nrows = 2, ncols = 2, figsize = (12,8))\n",
    "\n",
    "sns.boxplot(df.sat_participation_17, ax = ax[0,0], orient=\"h\", color = 'orange').set(\n",
    "    xlabel='', title='SAT Participation Rates 2017');\n",
    "\n",
    "sns.boxplot(df.sat_participation_18, ax = ax[0,1], orient=\"h\", color = 'orange').set(\n",
    "    xlabel='', title='SAT Participation Rates 2018');\n",
    "\n",
    "sns.boxplot(df.act_participation_17, ax = ax[1,0], orient=\"h\", color= 'pink').set(\n",
    "    xlabel='', title='ACT Participation Rates 2017');\n",
    "\n",
    "sns.boxplot(df.act_participation_18, ax = ax[1,1], orient=\"h\", color = 'pink').set(\n",
    "    xlabel='', title='ACT Participation Rates 2018');\n",
    "\n",
    "plt.tight_layout()\n",
    "\n",
    "plt.savefig('./images/participation_rate_boxplots.png');"
   ]
  },
  {
   "cell_type": "code",
   "execution_count": 92,
   "metadata": {},
   "outputs": [
    {
     "data": {
      "text/html": [
       "<div>\n",
       "<style scoped>\n",
       "    .dataframe tbody tr th:only-of-type {\n",
       "        vertical-align: middle;\n",
       "    }\n",
       "\n",
       "    .dataframe tbody tr th {\n",
       "        vertical-align: top;\n",
       "    }\n",
       "\n",
       "    .dataframe thead th {\n",
       "        text-align: right;\n",
       "    }\n",
       "</style>\n",
       "<table border=\"1\" class=\"dataframe\">\n",
       "  <thead>\n",
       "    <tr style=\"text-align: right;\">\n",
       "      <th></th>\n",
       "      <th>count</th>\n",
       "      <th>mean</th>\n",
       "      <th>std</th>\n",
       "      <th>min</th>\n",
       "      <th>25%</th>\n",
       "      <th>50%</th>\n",
       "      <th>75%</th>\n",
       "      <th>max</th>\n",
       "    </tr>\n",
       "  </thead>\n",
       "  <tbody>\n",
       "    <tr>\n",
       "      <th>sat_participation_17</th>\n",
       "      <td>51.0</td>\n",
       "      <td>39.803922</td>\n",
       "      <td>35.276632</td>\n",
       "      <td>2.0</td>\n",
       "      <td>4.00</td>\n",
       "      <td>38.0</td>\n",
       "      <td>66.00</td>\n",
       "      <td>100.0</td>\n",
       "    </tr>\n",
       "    <tr>\n",
       "      <th>sat_score_17</th>\n",
       "      <td>51.0</td>\n",
       "      <td>1126.098039</td>\n",
       "      <td>92.494812</td>\n",
       "      <td>950.0</td>\n",
       "      <td>1055.50</td>\n",
       "      <td>1107.0</td>\n",
       "      <td>1212.00</td>\n",
       "      <td>1295.0</td>\n",
       "    </tr>\n",
       "    <tr>\n",
       "      <th>act_participation_17</th>\n",
       "      <td>51.0</td>\n",
       "      <td>65.254902</td>\n",
       "      <td>32.140842</td>\n",
       "      <td>8.0</td>\n",
       "      <td>31.00</td>\n",
       "      <td>69.0</td>\n",
       "      <td>100.00</td>\n",
       "      <td>100.0</td>\n",
       "    </tr>\n",
       "    <tr>\n",
       "      <th>act_composite_17</th>\n",
       "      <td>51.0</td>\n",
       "      <td>21.519608</td>\n",
       "      <td>2.020695</td>\n",
       "      <td>17.8</td>\n",
       "      <td>19.80</td>\n",
       "      <td>21.4</td>\n",
       "      <td>23.60</td>\n",
       "      <td>25.5</td>\n",
       "    </tr>\n",
       "    <tr>\n",
       "      <th>sat_participation_18</th>\n",
       "      <td>51.0</td>\n",
       "      <td>45.745098</td>\n",
       "      <td>37.314256</td>\n",
       "      <td>2.0</td>\n",
       "      <td>4.50</td>\n",
       "      <td>52.0</td>\n",
       "      <td>77.50</td>\n",
       "      <td>100.0</td>\n",
       "    </tr>\n",
       "    <tr>\n",
       "      <th>sat_score_18</th>\n",
       "      <td>51.0</td>\n",
       "      <td>1120.019608</td>\n",
       "      <td>94.155083</td>\n",
       "      <td>977.0</td>\n",
       "      <td>1057.50</td>\n",
       "      <td>1098.0</td>\n",
       "      <td>1204.00</td>\n",
       "      <td>1298.0</td>\n",
       "    </tr>\n",
       "    <tr>\n",
       "      <th>act_participation_18</th>\n",
       "      <td>51.0</td>\n",
       "      <td>61.725490</td>\n",
       "      <td>34.037085</td>\n",
       "      <td>7.0</td>\n",
       "      <td>28.50</td>\n",
       "      <td>66.0</td>\n",
       "      <td>100.00</td>\n",
       "      <td>100.0</td>\n",
       "    </tr>\n",
       "    <tr>\n",
       "      <th>act_composite_18</th>\n",
       "      <td>51.0</td>\n",
       "      <td>21.496078</td>\n",
       "      <td>2.111583</td>\n",
       "      <td>17.7</td>\n",
       "      <td>19.95</td>\n",
       "      <td>21.3</td>\n",
       "      <td>23.65</td>\n",
       "      <td>25.6</td>\n",
       "    </tr>\n",
       "  </tbody>\n",
       "</table>\n",
       "</div>"
      ],
      "text/plain": [
       "                      count         mean        std    min      25%     50%  \\\n",
       "sat_participation_17   51.0    39.803922  35.276632    2.0     4.00    38.0   \n",
       "sat_score_17           51.0  1126.098039  92.494812  950.0  1055.50  1107.0   \n",
       "act_participation_17   51.0    65.254902  32.140842    8.0    31.00    69.0   \n",
       "act_composite_17       51.0    21.519608   2.020695   17.8    19.80    21.4   \n",
       "sat_participation_18   51.0    45.745098  37.314256    2.0     4.50    52.0   \n",
       "sat_score_18           51.0  1120.019608  94.155083  977.0  1057.50  1098.0   \n",
       "act_participation_18   51.0    61.725490  34.037085    7.0    28.50    66.0   \n",
       "act_composite_18       51.0    21.496078   2.111583   17.7    19.95    21.3   \n",
       "\n",
       "                          75%     max  \n",
       "sat_participation_17    66.00   100.0  \n",
       "sat_score_17          1212.00  1295.0  \n",
       "act_participation_17   100.00   100.0  \n",
       "act_composite_17        23.60    25.5  \n",
       "sat_participation_18    77.50   100.0  \n",
       "sat_score_18          1204.00  1298.0  \n",
       "act_participation_18   100.00   100.0  \n",
       "act_composite_18        23.65    25.6  "
      ]
     },
     "execution_count": 92,
     "metadata": {},
     "output_type": "execute_result"
    }
   ],
   "source": [
    "df.describe().T"
   ]
  },
  {
   "cell_type": "code",
   "execution_count": 93,
   "metadata": {},
   "outputs": [
    {
     "data": {
      "image/png": "[encoded data removed]",
      "text/plain": [
       "<Figure size 1080x576 with 2 Axes>"
      ]
     },
     "metadata": {
      "needs_background": "light"
     },
     "output_type": "display_data"
    }
   ],
   "source": [
    "plt.figure(figsize = (15,8))\n",
    "\n",
    "# SAT Participation Rates 2017 histogram\n",
    "plt.subplot(1,2,1) \n",
    "sns.distplot(df.sat_participation_17, kde=False,bins=8);\n",
    "\n",
    "plt.title('SAT Participation Rates 2017 Distribution', fontsize=16)\n",
    "plt.xlabel('Participation Rate', fontsize=14)\n",
    "plt.ylabel('Frequency', fontsize=14)\n",
    "\n",
    "plt.xlim(0, 101)\n",
    "plt.xticks(fontsize=12)\n",
    "plt.yticks(fontsize=12)\n",
    "\n",
    "# ACT Participation Rates 2017 histogram\n",
    "plt.subplot(1,2,2) \n",
    "sns.distplot(df.act_participation_17, kde=False, bins=8);\n",
    "\n",
    "plt.title('ACT Participation Rates 2017 Distribution', fontsize=16)\n",
    "plt.xlabel('Participation Rate', fontsize=14)\n",
    "plt.ylabel('Frequency', fontsize=14)\n",
    "\n",
    "plt.xlim(0, 101)\n",
    "plt.xticks(fontsize=12)\n",
    "plt.yticks(fontsize=12)\n",
    "\n",
    "plt.tight_layout()\n",
    "plt.savefig('./images/2017_participation_histograms.png');"
   ]
  },
  {
   "cell_type": "code",
   "execution_count": 94,
   "metadata": {},
   "outputs": [
    {
     "data": {
      "image/png": "[encoded data removed]",
      "text/plain": [
       "<Figure size 1080x576 with 2 Axes>"
      ]
     },
     "metadata": {
      "needs_background": "light"
     },
     "output_type": "display_data"
    }
   ],
   "source": [
    "plt.figure(figsize = (15,8))\n",
    "\n",
    "# SAT Participation Rates 2018 histogram\n",
    "plt.subplot(1,2,1) \n",
    "sns.distplot(df.sat_participation_18, kde=False, bins=8);\n",
    "\n",
    "plt.title('SAT Participation Rates 2018 Distribution', fontsize=16);\n",
    "plt.xlabel('Participation Rate', fontsize=14)\n",
    "plt.ylabel('Frequency', fontsize=14)\n",
    "plt.xlim(0, 101)\n",
    "plt.xticks(fontsize=12)\n",
    "plt.yticks(fontsize=12)\n",
    "\n",
    "# ACT Participation Rates 2018 histogram\n",
    "plt.subplot(1,2,2) \n",
    "sns.distplot(df.act_participation_18,kde=False,bins=8);\n",
    "plt.title('ACT Participation Rates 2018 Distribution', fontsize=16);\n",
    "plt.xlabel('Participation Rate', fontsize=14)\n",
    "plt.ylabel('Frequency', fontsize=14)\n",
    "plt.xlim(0, 101)\n",
    "plt.xticks(fontsize=12)\n",
    "plt.yticks(fontsize=12)\n",
    "plt.tight_layout()\n",
    "plt.savefig('./images/2018_participation_histograms.png');"
   ]
  },
  {
   "cell_type": "code",
   "execution_count": null,
   "metadata": {},
   "outputs": [],
   "source": []
  },
  {
   "cell_type": "code",
   "execution_count": null,
   "metadata": {},
   "outputs": [],
   "source": []
  },
  {
   "cell_type": "code",
   "execution_count": null,
   "metadata": {},
   "outputs": [],
   "source": []
  },
  {
   "cell_type": "code",
   "execution_count": null,
   "metadata": {},
   "outputs": [],
   "source": []
  },
  {
   "cell_type": "code",
   "execution_count": null,
   "metadata": {},
   "outputs": [],
   "source": []
  }
 ],
 "metadata": {
  "kernelspec": {
   "display_name": "Python 3",
   "language": "python",
   "name": "python3"
  },
  "language_info": {
   "codemirror_mode": {
    "name": "ipython",
    "version": 3
   },
   "file_extension": ".py",
   "mimetype": "text/x-python",
   "name": "python",
   "nbconvert_exporter": "python",
   "pygments_lexer": "ipython3",
   "version": "3.7.3"
  }
 },
 "nbformat": 4,
 "nbformat_minor": 2
}
