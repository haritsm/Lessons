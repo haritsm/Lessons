{
 "cells": [
  {
   "cell_type": "code",
   "execution_count": 1,
   "metadata": {},
   "outputs": [],
   "source": [
    "# Import libaries:\n",
    "import numpy as np\n",
    "import pandas as pd"
   ]
  },
  {
   "cell_type": "code",
   "execution_count": 2,
   "metadata": {},
   "outputs": [],
   "source": [
    "# Read 2017 and 2018 SAT and ACT data csv data as DataFrames using Pandas:\n",
    "sat_17 = pd.read_csv('./data/sat_2017.csv')\n",
    "sat_18 = pd.read_csv('./data/sat_2018.csv')\n",
    "act_17 = pd.read_csv('./data/act_2017.csv')\n",
    "act_18 = pd.read_csv('./data/act_2018.csv')"
   ]
  },
  {
   "cell_type": "code",
   "execution_count": 3,
   "metadata": {},
   "outputs": [],
   "source": [
    "sat_17.name = 'SAT 2017'\n",
    "sat_18.name = 'SAT 2018'\n",
    "act_17.name = 'ACT 2017'\n",
    "act_18.name = 'ACT 2018'"
   ]
  },
  {
   "cell_type": "code",
   "execution_count": 4,
   "metadata": {},
   "outputs": [],
   "source": [
    "# Function to print out properties of each DataFrame:\n",
    "def print_props(df_list, prop = '.head()'):\n",
    "\n",
    "    for df in df_list:\n",
    "        if (prop == '.head()'):\n",
    "            title = '\\tFirst 5 rows of '\n",
    "            data = df.head()\n",
    "            \n",
    "        elif (prop == '.tail()'):\n",
    "            title = '\\tLast 5 rows in '\n",
    "            data = df.tail()\n",
    "            \n",
    "        elif (prop == '.columns'):\n",
    "            title = '\\tColumn Features of '\n",
    "            data = df.columns\n",
    "            \n",
    "        elif (prop == '.dtypes'):\n",
    "            title = '\\tData Types of '\n",
    "            data = df.dtypes\n",
    "            \n",
    "        elif (prop == '.shape'):\n",
    "            title = '\\tShape of '\n",
    "            data = df.shape\n",
    "            \n",
    "        elif (prop == '.isnull().sum()'):\n",
    "            title = '\\tNull Values in '\n",
    "            data = df.isnull().sum()\n",
    "            \n",
    "        elif (prop == '.describe()'):\n",
    "            title = '\\tSummary Statistics of '\n",
    "            data = df.describe()\n",
    "        \n",
    "        print(title + df.name)\n",
    "        print('----------------------------------------')\n",
    "        print(data)\n",
    "        print()"
   ]
  },
  {
   "cell_type": "code",
   "execution_count": 5,
   "metadata": {},
   "outputs": [
    {
     "name": "stdout",
     "output_type": "stream",
     "text": [
      "\tFirst 5 rows of SAT 2017\n",
      "----------------------------------------\n",
      "        State Participation  Evidence-Based Reading and Writing  Math  Total\n",
      "0     Alabama            5%                                 593   572   1165\n",
      "1      Alaska           38%                                 547   533   1080\n",
      "2     Arizona           30%                                 563   553   1116\n",
      "3    Arkansas            3%                                 614   594   1208\n",
      "4  California           53%                                 531   524   1055\n",
      "\n",
      "\tFirst 5 rows of SAT 2018\n",
      "----------------------------------------\n",
      "        State Participation  Evidence-Based Reading and Writing  Math  Total\n",
      "0     Alabama            6%                                 595   571   1166\n",
      "1      Alaska           43%                                 562   544   1106\n",
      "2     Arizona           29%                                 577   572   1149\n",
      "3    Arkansas            5%                                 592   576   1169\n",
      "4  California           60%                                 540   536   1076\n",
      "\n",
      "\tFirst 5 rows of ACT 2017\n",
      "----------------------------------------\n",
      "      State Participation  English  Math  Reading  Science Composite\n",
      "0  National           60%     20.3  20.7     21.4     21.0      21.0\n",
      "1   Alabama          100%     18.9  18.4     19.7     19.4      19.2\n",
      "2    Alaska           65%     18.7  19.8     20.4     19.9      19.8\n",
      "3   Arizona           62%     18.6  19.8     20.1     19.8      19.7\n",
      "4  Arkansas          100%     18.9  19.0     19.7     19.5      19.4\n",
      "\n",
      "\tFirst 5 rows of ACT 2018\n",
      "----------------------------------------\n",
      "           State Participation Composite\n",
      "0          Maine            7%        24\n",
      "1   Rhode Island           15%      24.2\n",
      "2  New Hampshire           16%      25.1\n",
      "3       Delaware           17%      23.8\n",
      "4   Pennsylvania           20%      23.5\n",
      "\n"
     ]
    }
   ],
   "source": [
    "# Initialize list of the DataFrame objects we are currently working with.\n",
    "df_list = [sat_17, sat_18, act_17, act_18]\n",
    "\n",
    "# Preview the first 5 rows of each DataFrame using the print_props function:\n",
    "print_props(df_list, '.head()')"
   ]
  },
  {
   "cell_type": "code",
   "execution_count": 6,
   "metadata": {},
   "outputs": [
    {
     "name": "stdout",
     "output_type": "stream",
     "text": [
      "\tData Types of SAT 2017\n",
      "----------------------------------------\n",
      "State                                 object\n",
      "Participation                         object\n",
      "Evidence-Based Reading and Writing     int64\n",
      "Math                                   int64\n",
      "Total                                  int64\n",
      "dtype: object\n",
      "\n",
      "\tData Types of SAT 2018\n",
      "----------------------------------------\n",
      "State                                 object\n",
      "Participation                         object\n",
      "Evidence-Based Reading and Writing     int64\n",
      "Math                                   int64\n",
      "Total                                  int64\n",
      "dtype: object\n",
      "\n",
      "\tData Types of ACT 2017\n",
      "----------------------------------------\n",
      "State             object\n",
      "Participation     object\n",
      "English          float64\n",
      "Math             float64\n",
      "Reading          float64\n",
      "Science          float64\n",
      "Composite         object\n",
      "dtype: object\n",
      "\n",
      "\tData Types of ACT 2018\n",
      "----------------------------------------\n",
      "State            object\n",
      "Participation    object\n",
      "Composite        object\n",
      "dtype: object\n",
      "\n"
     ]
    }
   ],
   "source": [
    "print_props(df_list, '.dtypes')"
   ]
  },
  {
   "cell_type": "code",
   "execution_count": 7,
   "metadata": {},
   "outputs": [
    {
     "data": {
      "text/plain": [
       "19.8     3\n",
       "20.3     3\n",
       "21.4     3\n",
       "21.9     2\n",
       "19.4     2\n",
       "24.1     2\n",
       "20.4     2\n",
       "19.7     2\n",
       "21.8     2\n",
       "23.6     2\n",
       "24.2     2\n",
       "19.5     1\n",
       "20.7     1\n",
       "22.6     1\n",
       "19.2     1\n",
       "23.7     1\n",
       "22.0     1\n",
       "22.8     1\n",
       "19.0     1\n",
       "23.8     1\n",
       "20.2x    1\n",
       "25.2     1\n",
       "22.3     1\n",
       "20.0     1\n",
       "24.0     1\n",
       "25.4     1\n",
       "17.8     1\n",
       "21.7     1\n",
       "19.1     1\n",
       "23.9     1\n",
       "20.8     1\n",
       "18.7     1\n",
       "21.5     1\n",
       "18.6     1\n",
       "25.5     1\n",
       "24.3     1\n",
       "20.5     1\n",
       "21.0     1\n",
       "Name: Composite, dtype: int64"
      ]
     },
     "execution_count": 7,
     "metadata": {},
     "output_type": "execute_result"
    }
   ],
   "source": [
    "act_17['Composite'].value_counts(ascending=False)"
   ]
  },
  {
   "cell_type": "code",
   "execution_count": 8,
   "metadata": {},
   "outputs": [],
   "source": [
    "act_17['Composite'] = act_17['Composite'].apply(lambda x_cell: x_cell.strip('x'))"
   ]
  },
  {
   "cell_type": "code",
   "execution_count": 9,
   "metadata": {},
   "outputs": [
    {
     "data": {
      "text/plain": [
       "20.3     3\n",
       "20       3\n",
       "23.9     3\n",
       "19.2     2\n",
       "19.1     2\n",
       "19.4     2\n",
       "24       2\n",
       "24.2     2\n",
       "22.5     2\n",
       "21.3     2\n",
       "18.6     1\n",
       "19.6     1\n",
       "23.6     1\n",
       "20.5     1\n",
       "18.9     1\n",
       "22.7     1\n",
       "22.3     1\n",
       "20.2     1\n",
       "21.4     1\n",
       "17.7     1\n",
       "23.8     1\n",
       "#REF!    1\n",
       "20.1     1\n",
       "21.8     1\n",
       "23.7     1\n",
       "19.3     1\n",
       "24.1     1\n",
       "24.5     1\n",
       "21.6     1\n",
       "25.5     1\n",
       "25.6     1\n",
       "21.9     1\n",
       "25.1     1\n",
       "23.5     1\n",
       "20.8     1\n",
       "19.9     1\n",
       "20.4     1\n",
       "20.7     1\n",
       "22.2     1\n",
       "18.3     1\n",
       "Name: Composite, dtype: int64"
      ]
     },
     "execution_count": 9,
     "metadata": {},
     "output_type": "execute_result"
    }
   ],
   "source": [
    "act_18['Composite'].value_counts(ascending=False)"
   ]
  },
  {
   "cell_type": "code",
   "execution_count": 10,
   "metadata": {},
   "outputs": [],
   "source": [
    "def compare_values(act_col, sat_col):\n",
    "    act_vals = []\n",
    "    sat_vals = []\n",
    "    \n",
    "    for a_val in act_col:\n",
    "        act_vals.append(a_val)\n",
    "    for s_val in sat_col:\n",
    "        sat_vals.append(s_val)\n",
    "    \n",
    "    print('Values in ACT only: ')\n",
    "    for val_a in act_vals:\n",
    "        if (val_a not in sat_vals):\n",
    "            print(val_a)\n",
    "            \n",
    "    print('----------------------------')\n",
    "        \n",
    "    print('Values in SAT only: ')\n",
    "    for val_s in sat_vals:\n",
    "        if (val_s not in act_vals):\n",
    "            print(val_s)"
   ]
  },
  {
   "cell_type": "code",
   "execution_count": 11,
   "metadata": {},
   "outputs": [
    {
     "name": "stdout",
     "output_type": "stream",
     "text": [
      "Values in ACT only: \n",
      "Washington, D.C.\n",
      "National\n",
      "----------------------------\n",
      "Values in SAT only: \n",
      "District of Columbia\n"
     ]
    }
   ],
   "source": [
    "compare_values(act_18['State'], sat_18['State'])"
   ]
  },
  {
   "cell_type": "code",
   "execution_count": 12,
   "metadata": {},
   "outputs": [
    {
     "data": {
      "text/html": [
       "<div>\n",
       "<style scoped>\n",
       "    .dataframe tbody tr th:only-of-type {\n",
       "        vertical-align: middle;\n",
       "    }\n",
       "\n",
       "    .dataframe tbody tr th {\n",
       "        vertical-align: top;\n",
       "    }\n",
       "\n",
       "    .dataframe thead th {\n",
       "        text-align: right;\n",
       "    }\n",
       "</style>\n",
       "<table border=\"1\" class=\"dataframe\">\n",
       "  <thead>\n",
       "    <tr style=\"text-align: right;\">\n",
       "      <th></th>\n",
       "      <th>State</th>\n",
       "      <th>Participation</th>\n",
       "      <th>Composite</th>\n",
       "    </tr>\n",
       "  </thead>\n",
       "  <tbody>\n",
       "    <tr>\n",
       "      <th>23</th>\n",
       "      <td>National</td>\n",
       "      <td>50%</td>\n",
       "      <td>#REF!</td>\n",
       "    </tr>\n",
       "  </tbody>\n",
       "</table>\n",
       "</div>"
      ],
      "text/plain": [
       "       State Participation Composite\n",
       "23  National           50%     #REF!"
      ]
     },
     "execution_count": 12,
     "metadata": {},
     "output_type": "execute_result"
    }
   ],
   "source": [
    "act_18[act_18['State'] == 'National']"
   ]
  },
  {
   "cell_type": "code",
   "execution_count": 13,
   "metadata": {},
   "outputs": [],
   "source": [
    "act_18.drop(act_18.index[23], inplace=True)"
   ]
  },
  {
   "cell_type": "code",
   "execution_count": 14,
   "metadata": {},
   "outputs": [],
   "source": [
    "act_18['State'].replace({'Washington, D.C.': 'District of Columbia'}, inplace=True)"
   ]
  },
  {
   "cell_type": "code",
   "execution_count": 15,
   "metadata": {},
   "outputs": [
    {
     "name": "stdout",
     "output_type": "stream",
     "text": [
      "Values in ACT only: \n",
      "National\n",
      "----------------------------\n",
      "Values in SAT only: \n"
     ]
    }
   ],
   "source": [
    "compare_values(act_17['State'], sat_17['State'])"
   ]
  },
  {
   "cell_type": "code",
   "execution_count": 16,
   "metadata": {},
   "outputs": [],
   "source": [
    "act_18.sort_values(by=['State'], inplace=True)\n",
    "sat_18.sort_values(by=['State'], inplace=True)"
   ]
  },
  {
   "cell_type": "code",
   "execution_count": 17,
   "metadata": {},
   "outputs": [],
   "source": [
    "sat_18 = sat_18.reset_index(drop=True)\n",
    "act_18 = act_18.reset_index(drop=True)"
   ]
  },
  {
   "cell_type": "code",
   "execution_count": 18,
   "metadata": {},
   "outputs": [],
   "source": [
    "def fix_participation(column):\n",
    "    return column.apply(lambda cells: cells.strip('%'))"
   ]
  },
  {
   "cell_type": "code",
   "execution_count": 19,
   "metadata": {},
   "outputs": [],
   "source": [
    "act_17['Participation'] = fix_participation(act_17['Participation'])\n",
    "act_18['Participation'] = fix_participation(act_18['Participation'])\n",
    "sat_17['Participation'] = fix_participation(sat_17['Participation'])\n",
    "sat_18['Participation'] = fix_participation(sat_18['Participation'])"
   ]
  },
  {
   "cell_type": "code",
   "execution_count": 20,
   "metadata": {},
   "outputs": [
    {
     "data": {
      "text/plain": [
       "0     100\n",
       "1      33\n",
       "2      66\n",
       "3     100\n",
       "4      27\n",
       "5      30\n",
       "6      26\n",
       "7      17\n",
       "8      32\n",
       "9      66\n",
       "10     53\n",
       "11     89\n",
       "12     36\n",
       "13     43\n",
       "14     32\n",
       "15     68\n",
       "16     71\n",
       "17    100\n",
       "18    100\n",
       "19      7\n",
       "20      7\n",
       "21     31\n",
       "22     25\n",
       "23     22\n",
       "24     99\n",
       "25    100\n",
       "26    100\n",
       "27    100\n",
       "28    100\n",
       "29    100\n",
       "30     16\n",
       "31     31\n",
       "32     67\n",
       "33     27\n",
       "34    100\n",
       "35     98\n",
       "36    100\n",
       "37    100\n",
       "38     42\n",
       "39     20\n",
       "40     15\n",
       "41    100\n",
       "42     77\n",
       "43    100\n",
       "44     45\n",
       "45    100\n",
       "46     24\n",
       "47     24\n",
       "48     24\n",
       "49     65\n",
       "50    100\n",
       "51    100\n",
       "Name: Participation, dtype: object"
      ]
     },
     "execution_count": 20,
     "metadata": {},
     "output_type": "execute_result"
    }
   ],
   "source": [
    "act_18['Participation']"
   ]
  },
  {
   "cell_type": "code",
   "execution_count": 21,
   "metadata": {},
   "outputs": [
    {
     "data": {
      "text/plain": [
       "0      60\n",
       "1     100\n",
       "2      65\n",
       "3      62\n",
       "4     100\n",
       "5      31\n",
       "6     100\n",
       "7      31\n",
       "8      18\n",
       "9      32\n",
       "10     73\n",
       "11     55\n",
       "12     90\n",
       "13     38\n",
       "14     93\n",
       "15     35\n",
       "16     67\n",
       "17     73\n",
       "18    100\n",
       "19    100\n",
       "20      8\n",
       "21     28\n",
       "22     29\n",
       "23     29\n",
       "24    100\n",
       "25    100\n",
       "26    100\n",
       "27    100\n",
       "28     84\n",
       "29    100\n",
       "30     18\n",
       "31     34\n",
       "32     66\n",
       "33     31\n",
       "34    100\n",
       "35     98\n",
       "36     75\n",
       "37    100\n",
       "38     40\n",
       "39     23\n",
       "40     21\n",
       "41    100\n",
       "42     80\n",
       "43    100\n",
       "44     45\n",
       "45    100\n",
       "46     29\n",
       "47     29\n",
       "48     29\n",
       "49     69\n",
       "50    100\n",
       "51    100\n",
       "Name: Participation, dtype: object"
      ]
     },
     "execution_count": 21,
     "metadata": {},
     "output_type": "execute_result"
    }
   ],
   "source": [
    "act_17['Participation']"
   ]
  },
  {
   "cell_type": "code",
   "execution_count": null,
   "metadata": {},
   "outputs": [],
   "source": [
    "print_props(df_list, '.dtypes')"
   ]
  },
  {
   "cell_type": "code",
   "execution_count": null,
   "metadata": {},
   "outputs": [],
   "source": [
    "def convert_to_float(df):\n",
    "    features = [col for col in df.columns if col != 'State']\n",
    "    df[features] = df[features].astype(float)\n",
    "    return df"
   ]
  },
  {
   "cell_type": "code",
   "execution_count": null,
   "metadata": {},
   "outputs": [],
   "source": [
    "act_17 = convert_to_float(act_17)\n",
    "sat_17 = convert_to_float(sat_17)\n",
    "act_18 = convert_to_float(act_18)\n",
    "sat_18 = convert_to_float(sat_18)"
   ]
  },
  {
   "cell_type": "code",
   "execution_count": null,
   "metadata": {},
   "outputs": [],
   "source": [
    "print_props(df_list, '.dtypes')"
   ]
  },
  {
   "cell_type": "code",
   "execution_count": null,
   "metadata": {},
   "outputs": [],
   "source": [
    "print_props(df_list, '.shape')"
   ]
  },
  {
   "cell_type": "code",
   "execution_count": null,
   "metadata": {},
   "outputs": [],
   "source": [
    "counts = act_17['State'].value_counts()\n",
    "counts[counts != 1]"
   ]
  },
  {
   "cell_type": "code",
   "execution_count": null,
   "metadata": {},
   "outputs": [],
   "source": [
    "act_17.head()"
   ]
  },
  {
   "cell_type": "code",
   "execution_count": null,
   "metadata": {},
   "outputs": [],
   "source": [
    "act_17.drop(act_17.index[0], inplace=True)\n",
    "act_17 = act_17.reset_index(drop=True)"
   ]
  },
  {
   "cell_type": "code",
   "execution_count": null,
   "metadata": {},
   "outputs": [],
   "source": [
    "act_17.head()"
   ]
  },
  {
   "cell_type": "code",
   "execution_count": null,
   "metadata": {},
   "outputs": [],
   "source": [
    "counts = act_18['State'].value_counts()\n",
    "counts[counts != 1]"
   ]
  },
  {
   "cell_type": "code",
   "execution_count": null,
   "metadata": {},
   "outputs": [],
   "source": [
    "print(act_18[act_18['State'] == 'Maine'])"
   ]
  },
  {
   "cell_type": "code",
   "execution_count": null,
   "metadata": {},
   "outputs": [],
   "source": [
    "act_18.drop(act_18.index[19], inplace=True)\n",
    "act_18 = act_18.reset_index(drop=True)"
   ]
  },
  {
   "cell_type": "code",
   "execution_count": null,
   "metadata": {},
   "outputs": [],
   "source": [
    "# Number of rows is now consistent between data frames.\n",
    "print_props(df_list, '.shape')"
   ]
  },
  {
   "cell_type": "code",
   "execution_count": null,
   "metadata": {},
   "outputs": [],
   "source": [
    "# Check for missing data:\n",
    "print_props(df_list, '.isnull().sum()')"
   ]
  },
  {
   "cell_type": "code",
   "execution_count": null,
   "metadata": {},
   "outputs": [],
   "source": [
    "# rename the 2017 ACT columns\n",
    "new_act_17_cols = {\n",
    "    'State':'state',\n",
    "    'Participation':'act_participation_17',\n",
    "    'Composite':'act_composite_17'\n",
    "}\n",
    "act_17.rename(columns=new_act_17_cols, inplace=True)\n",
    "act_17.name = 'ACT 2017'"
   ]
  },
  {
   "cell_type": "code",
   "execution_count": null,
   "metadata": {},
   "outputs": [],
   "source": [
    "sat_17.drop(columns = ['Evidence-Based Reading and Writing', 'Math'], inplace = True)\n",
    "act_17.drop(columns = ['English', 'Math', 'Reading', 'Science'], inplace = True)"
   ]
  },
  {
   "cell_type": "code",
   "execution_count": null,
   "metadata": {},
   "outputs": [],
   "source": [
    "# rename the 2017 SAT columns\n",
    "new_sat_17_cols = {\n",
    "    'State':'state',\n",
    "    'Participation':'sat_participation_17',\n",
    "    'Total':'sat_score_17'\n",
    "    }\n",
    "sat_17.rename(columns=new_sat_17_cols, inplace=True)\n",
    "sat_17.name = 'SAT 2017'"
   ]
  },
  {
   "cell_type": "code",
   "execution_count": null,
   "metadata": {},
   "outputs": [],
   "source": [
    "df_list = [sat_17, act_17]"
   ]
  },
  {
   "cell_type": "code",
   "execution_count": null,
   "metadata": {},
   "outputs": [],
   "source": [
    "print_props(df_list, '.columns')"
   ]
  },
  {
   "cell_type": "code",
   "execution_count": null,
   "metadata": {},
   "outputs": [],
   "source": [
    "print_props(df_list, '.head()')"
   ]
  },
  {
   "cell_type": "code",
   "execution_count": null,
   "metadata": {},
   "outputs": [],
   "source": [
    "sat_act_17 = pd.merge(sat_17, act_17, left_index=True, on = 'state', how='outer')\n",
    "sat_act_17.name = 'SAT/ACT 2017'"
   ]
  },
  {
   "cell_type": "code",
   "execution_count": null,
   "metadata": {},
   "outputs": [],
   "source": [
    "# rename the 2018 ACT columns\n",
    "new_act_18_cols = {\n",
    "    'State':'state',\n",
    "    'Participation':'act_participation_18',\n",
    "    'Composite':'act_composite_18'\n",
    "}\n",
    "act_18.rename(columns=new_act_18_cols, inplace=True)\n",
    "act_18.name = 'ACT 2018'"
   ]
  },
  {
   "cell_type": "code",
   "execution_count": null,
   "metadata": {},
   "outputs": [],
   "source": [
    "# rename the 2018 SAT columns\n",
    "new_sat_18_cols = {\n",
    "    'State':'state',\n",
    "    'Participation':'sat_participation_18',\n",
    "    'Total':'sat_score_18'\n",
    "    }\n",
    "sat_18.rename(columns=new_sat_18_cols, inplace=True)\n",
    "sat_18.name = 'SAT 2018'"
   ]
  },
  {
   "cell_type": "code",
   "execution_count": null,
   "metadata": {},
   "outputs": [],
   "source": [
    "df_list = [act_18, sat_18]"
   ]
  },
  {
   "cell_type": "code",
   "execution_count": null,
   "metadata": {},
   "outputs": [],
   "source": [
    "print_props(df_list, '.columns')"
   ]
  },
  {
   "cell_type": "code",
   "execution_count": null,
   "metadata": {},
   "outputs": [],
   "source": [
    "sat_18.drop(columns = ['Evidence-Based Reading and Writing', 'Math'], inplace=True)"
   ]
  },
  {
   "cell_type": "code",
   "execution_count": null,
   "metadata": {},
   "outputs": [],
   "source": [
    "print_props(df_list, '.shape')"
   ]
  },
  {
   "cell_type": "code",
   "execution_count": null,
   "metadata": {},
   "outputs": [],
   "source": [
    "print_props(df_list, '.dtypes')"
   ]
  },
  {
   "cell_type": "code",
   "execution_count": null,
   "metadata": {},
   "outputs": [],
   "source": [
    "print_props(df_list, '.isnull().sum()')"
   ]
  },
  {
   "cell_type": "code",
   "execution_count": null,
   "metadata": {},
   "outputs": [],
   "source": [
    "sat_act_18 = pd.merge(sat_18, act_18, left_index=True, on = 'state', how='outer')\n",
    "sat_act_18 = sat_act_18.reset_index(drop=True)\n",
    "sat_act_18.name = 'SAT/ACT 2018'"
   ]
  },
  {
   "cell_type": "code",
   "execution_count": null,
   "metadata": {},
   "outputs": [],
   "source": [
    "df_list = [sat_act_17, sat_act_18]"
   ]
  },
  {
   "cell_type": "code",
   "execution_count": null,
   "metadata": {},
   "outputs": [],
   "source": [
    "print_props(df_list, '.columns')"
   ]
  },
  {
   "cell_type": "code",
   "execution_count": null,
   "metadata": {},
   "outputs": [],
   "source": [
    "print_props(df_list, '.head()')"
   ]
  },
  {
   "cell_type": "code",
   "execution_count": null,
   "metadata": {},
   "outputs": [],
   "source": [
    "print_props(df_list, '.shape')"
   ]
  },
  {
   "cell_type": "code",
   "execution_count": null,
   "metadata": {},
   "outputs": [],
   "source": [
    "print_props(df_list, '.dtypes')"
   ]
  },
  {
   "cell_type": "code",
   "execution_count": null,
   "metadata": {},
   "outputs": [],
   "source": [
    "print_props(df_list, '.isnull().sum()')"
   ]
  },
  {
   "cell_type": "code",
   "execution_count": null,
   "metadata": {},
   "outputs": [],
   "source": [
    "sat_act_17.to_csv('./data/sat_act_17.csv', encoding='utf-8')\n",
    "sat_act_18.to_csv('./data/sat_act_18.csv', encoding='utf-8')"
   ]
  },
  {
   "cell_type": "code",
   "execution_count": null,
   "metadata": {},
   "outputs": [],
   "source": [
    "sat_act = pd.merge(sat_act_17, sat_act_18, left_index=True, on = 'state', how='outer')\n",
    "sat_act.head()"
   ]
  },
  {
   "cell_type": "code",
   "execution_count": null,
   "metadata": {},
   "outputs": [],
   "source": [
    "# Verify sat_act merge.\n",
    "counts = sat_act['state'].value_counts()\n",
    "counts[counts != 1]"
   ]
  },
  {
   "cell_type": "code",
   "execution_count": null,
   "metadata": {},
   "outputs": [],
   "source": [
    "sat_act.to_csv('./data/sat_act_2017_2018.csv', encoding='utf-8')"
   ]
  },
  {
   "cell_type": "code",
   "execution_count": null,
   "metadata": {},
   "outputs": [],
   "source": [
    "df = pd.read_csv('./data/sat_act_2017_2018.csv')\n",
    "df.head()"
   ]
  },
  {
   "cell_type": "code",
   "execution_count": null,
   "metadata": {},
   "outputs": [],
   "source": [
    "df.drop(columns = ['Unnamed: 0'], axis=1, inplace = True)\n",
    "df.head()"
   ]
  },
  {
   "cell_type": "code",
   "execution_count": null,
   "metadata": {},
   "outputs": [],
   "source": [
    "df.isnull().sum()"
   ]
  },
  {
   "cell_type": "code",
   "execution_count": null,
   "metadata": {},
   "outputs": [],
   "source": [
    "df.shape"
   ]
  },
  {
   "cell_type": "code",
   "execution_count": null,
   "metadata": {},
   "outputs": [],
   "source": [
    "df.dtypes"
   ]
  },
  {
   "cell_type": "code",
   "execution_count": null,
   "metadata": {},
   "outputs": [],
   "source": [
    "# States that have >50% participation rates on both the SAT and ACT in 2017.\n",
    "df[(df['sat_participation_17'] > 50.0) & (df['act_participation_17'] > 50.0)]['state']"
   ]
  },
  {
   "cell_type": "code",
   "execution_count": null,
   "metadata": {},
   "outputs": [],
   "source": [
    "# States that have >50% participation rates on both the SAT and ACT in 2018.\n",
    "df[(df['sat_participation_18'] > 50.0) & (df['act_participation_18'] > 50.0)]['state']"
   ]
  },
  {
   "cell_type": "code",
   "execution_count": null,
   "metadata": {},
   "outputs": [],
   "source": [
    "# States with 100% SAT participation in both 2017 and 2018\n",
    "df[(df['sat_participation_17'] == 100.0) & (df['sat_participation_18'] == 100.0)]['state']"
   ]
  },
  {
   "cell_type": "code",
   "execution_count": null,
   "metadata": {},
   "outputs": [],
   "source": [
    "# States with 100% ACT participation in both 2017 and 2018\n",
    "df[(df['act_participation_17'] == 100.0) & (df['act_participation_18'] == 100.0)]['state']"
   ]
  },
  {
   "cell_type": "code",
   "execution_count": null,
   "metadata": {},
   "outputs": [],
   "source": [
    "# States with 100% SAT participation rates in 2017.\n",
    "df[df['sat_participation_17'] == 100.0]['state']"
   ]
  },
  {
   "cell_type": "code",
   "execution_count": null,
   "metadata": {},
   "outputs": [],
   "source": [
    "# States with 100% SAT participation rates in 2018.\n",
    "df[df['sat_participation_18'] == 100.0]['state']"
   ]
  },
  {
   "cell_type": "code",
   "execution_count": null,
   "metadata": {},
   "outputs": [],
   "source": [
    "# States with less than 10% SAT participation rates in 2017.\n",
    "df[df['sat_participation_17'] < 10.0]['state']"
   ]
  },
  {
   "cell_type": "code",
   "execution_count": null,
   "metadata": {},
   "outputs": [],
   "source": [
    "# States with the lowest SAT participation rates in 2018, less than 10%.\n",
    "df[df['sat_participation_18'] < 10.0]['state']"
   ]
  },
  {
   "cell_type": "code",
   "execution_count": null,
   "metadata": {},
   "outputs": [],
   "source": [
    "# States with 100% ACT participation rates in 2017.\n",
    "df[df['act_participation_17'] == 100.0]['state']"
   ]
  },
  {
   "cell_type": "code",
   "execution_count": null,
   "metadata": {},
   "outputs": [],
   "source": [
    "# States with 100% ACT participation rates in 2018.\n",
    "df[df['act_participation_18'] == 100.0]['state']"
   ]
  },
  {
   "cell_type": "code",
   "execution_count": null,
   "metadata": {},
   "outputs": [],
   "source": [
    "# States with the lowest ACT participation rates in 2017, less than 10%.\n",
    "df[df['act_participation_17'] < 10.0]['state']"
   ]
  },
  {
   "cell_type": "code",
   "execution_count": null,
   "metadata": {},
   "outputs": [],
   "source": [
    "# States with the lowest ACT participation rates in 2018, less than 10%.\n",
    "df[df['act_participation_18'] < 10.0]['state']"
   ]
  },
  {
   "cell_type": "code",
   "execution_count": null,
   "metadata": {},
   "outputs": [],
   "source": [
    "# Lowest mean total scores 2017 SAT\n",
    "df[df['sat_score_17'] < (df['sat_score_17'].mean() - df['sat_score_17'].std())]['state']"
   ]
  },
  {
   "cell_type": "code",
   "execution_count": null,
   "metadata": {},
   "outputs": [],
   "source": [
    "# Lowest mean total scores 2018 SAT\n",
    "df[df['sat_score_18'] < (df['sat_score_18'].mean() - df['sat_score_18'].std())]['state']"
   ]
  },
  {
   "cell_type": "code",
   "execution_count": null,
   "metadata": {},
   "outputs": [],
   "source": [
    "# Highest mean total scores 2017 SAT\n",
    "df[df['sat_score_17'] > (df['sat_score_17'].mean() + df['sat_score_17'].std())]['state']"
   ]
  },
  {
   "cell_type": "code",
   "execution_count": null,
   "metadata": {},
   "outputs": [],
   "source": [
    "# Highest mean total scores 2018 SAT\n",
    "df[df['sat_score_18'] > (df['sat_score_18'].mean() + df['sat_score_18'].std())]['state']"
   ]
  },
  {
   "cell_type": "code",
   "execution_count": null,
   "metadata": {},
   "outputs": [],
   "source": [
    "# Lowest mean composite scores 2017 ACT\n",
    "df[df['act_composite_17'] < (df['act_composite_17'].mean() - df['act_composite_17'].std())]['state']"
   ]
  },
  {
   "cell_type": "code",
   "execution_count": null,
   "metadata": {},
   "outputs": [],
   "source": [
    "# Lowest mean composite scores 2018 ACT\n",
    "df[df['act_composite_18'] < (df['act_composite_18'].mean() - df['act_composite_18'].std())]['state']"
   ]
  },
  {
   "cell_type": "code",
   "execution_count": null,
   "metadata": {},
   "outputs": [],
   "source": [
    "# Highest mean composite scores 2017 ACT\n",
    "df[df['act_composite_17'] > (df['act_composite_17'].mean() + df['act_composite_17'].std())]['state']"
   ]
  },
  {
   "cell_type": "code",
   "execution_count": null,
   "metadata": {},
   "outputs": [],
   "source": [
    "# Highest mean composite scores 2018 ACT\n",
    "df[df['act_composite_18'] > (df['act_composite_18'].mean() + df['act_composite_18'].std())]['state']"
   ]
  },
  {
   "cell_type": "code",
   "execution_count": null,
   "metadata": {},
   "outputs": [],
   "source": [
    "import seaborn as sns\n",
    "import matplotlib.pyplot as plt\n",
    "%matplotlib inline"
   ]
  },
  {
   "cell_type": "code",
   "execution_count": null,
   "metadata": {},
   "outputs": [],
   "source": [
    "plt.figure(figsize = (15,10))\n",
    "plt.title('SAT and ACT Correlation Heatmap', fontsize = 16);\n",
    "\n",
    "# Mask to remove redundancy from the heatmap.\n",
    "mask = np.zeros_like(df.corr(), dtype=np.bool)\n",
    "mask[np.triu_indices_from(mask)] = True\n",
    "sns.heatmap(df.corr(), mask=mask, vmin=-1, vmax = 1, cmap = \"coolwarm\",  annot = True);\n",
    "plt.savefig('./images/sat_act_heatmap.png')"
   ]
  },
  {
   "cell_type": "code",
   "execution_count": null,
   "metadata": {},
   "outputs": [],
   "source": [
    "plt.figure(figsize = (8,6))\n",
    "features = ['sat_participation_17', 'sat_participation_18', 'act_participation_17', 'act_participation_18']\n",
    "plt.title('SAT and ACT Participation Rate Correlations', fontsize = 16);\n",
    "mask = np.zeros_like(df[features].corr(), dtype=np.bool)\n",
    "mask[np.triu_indices_from(mask)] = True\n",
    "sns.heatmap(df[features].corr(), mask=mask, vmin=-1, vmax = 1, cmap = \"coolwarm\",  annot = True);\n",
    "plt.savefig('./images/participation_heatmap.png')"
   ]
  },
  {
   "cell_type": "code",
   "execution_count": null,
   "metadata": {},
   "outputs": [],
   "source": [
    "plt.figure(figsize = (8,6))\n",
    "features = ['sat_score_17', 'sat_score_18', 'act_composite_17', 'act_composite_18']\n",
    "plt.title('Average SAT Score vs Average ACT Composite Score Correlations', fontsize = 16);\n",
    "mask = np.zeros_like(df[features].corr(), dtype=np.bool)\n",
    "mask[np.triu_indices_from(mask)] = True\n",
    "sns.heatmap(df[features].corr(), mask=mask, vmin=-1, vmax = 1, cmap = \"coolwarm\",  annot = True);\n",
    "plt.savefig('./images/score_vs_composite_heatmap.png')"
   ]
  },
  {
   "cell_type": "code",
   "execution_count": null,
   "metadata": {},
   "outputs": [],
   "source": []
  },
  {
   "cell_type": "code",
   "execution_count": null,
   "metadata": {},
   "outputs": [],
   "source": [
    "# Boxplots comparing the average participation rates of the 2017 ACT, 2018 ACT, 2017 SAT, and 2018 SAT.\n",
    "fig, ax = plt.subplots(nrows = 2, ncols = 2, figsize = (15,12))\n",
    "\n",
    "sns.boxplot(df.sat_participation_17, ax = ax[0,0], orient=\"h\", color = 'orange').set(\n",
    "    xlabel='', title='SAT Participation Rates 2017');\n",
    "\n",
    "sns.boxplot(df.sat_participation_18, ax = ax[0,1], orient=\"h\", color = 'orange').set(\n",
    "    xlabel='', title='SAT Participation Rates 2018');\n",
    "\n",
    "sns.boxplot(df.act_participation_17, ax = ax[1,0], orient=\"h\", color= 'pink').set(\n",
    "    xlabel='', title='ACT Participation Rates 2017');\n",
    "\n",
    "sns.boxplot(df.act_participation_18, ax = ax[1,1], orient=\"h\", color = 'pink').set(\n",
    "    xlabel='', title='ACT Participation Rates 2018');\n",
    "\n",
    "plt.tight_layout();"
   ]
  },
  {
   "cell_type": "code",
   "execution_count": null,
   "metadata": {},
   "outputs": [],
   "source": [
    "df.describe().T"
   ]
  },
  {
   "cell_type": "code",
   "execution_count": null,
   "metadata": {},
   "outputs": [],
   "source": [
    "# plt.figure(figsize = (15,8))\n",
    "\n",
    "# # SAT Participation Rates 2017 histogram\n",
    "# plt.subplot(1,2,1) \n",
    "# sns.distplot(df.sat_participation_17, kde=False,bins=8);\n",
    "\n",
    "# plt.title('SAT Participation Rates 2017 Distribution', fontsize=16)\n",
    "# plt.xlabel('Participation Rate', fontsize=14)\n",
    "# plt.ylabel('Frequency', fontsize=14)\n",
    "\n",
    "# plt.xlim(0, 101)\n",
    "# plt.xticks(fontsize=12)\n",
    "# plt.yticks(fontsize=12)\n",
    "\n",
    "# # ACT Participation Rates 2017 histogram\n",
    "# plt.subplot(1,2,2) \n",
    "# sns.distplot(df.act_participation_17, kde=False, bins=8);\n",
    "\n",
    "# plt.title('ACT Participation Rates 2017 Distribution', fontsize=16)\n",
    "# plt.xlabel('Participation Rate', fontsize=14)\n",
    "# plt.ylabel('Frequency', fontsize=14)\n",
    "\n",
    "# plt.xlim(0, 101)\n",
    "# plt.xticks(fontsize=12)\n",
    "# plt.yticks(fontsize=12)\n",
    "\n",
    "# plt.tight_layout()"
   ]
  },
  {
   "cell_type": "code",
   "execution_count": null,
   "metadata": {},
   "outputs": [],
   "source": [
    "# plt.figure(figsize = (15,8))\n",
    "\n",
    "# # SAT Participation Rates 2018 histogram\n",
    "# plt.subplot(1,2,1) \n",
    "# sns.distplot(df.sat_participation_18, kde=False, bins=8);\n",
    "\n",
    "# plt.title('SAT Participation Rates 2018 Distribution', fontsize=16);\n",
    "# plt.xlabel('Participation Rate', fontsize=14)\n",
    "# plt.ylabel('Frequency', fontsize=14)\n",
    "# plt.xlim(0, 101)\n",
    "# plt.xticks(fontsize=12)\n",
    "# plt.yticks(fontsize=12)\n",
    "\n",
    "# # ACT Participation Rates 2018 histogram\n",
    "# plt.subplot(1,2,2) \n",
    "# sns.distplot(df.act_participation_18,kde=False,bins=8);\n",
    "# plt.title('ACT Participation Rates 2018 Distribution', fontsize=16);\n",
    "# plt.xlabel('Participation Rate', fontsize=14)\n",
    "# plt.ylabel('Frequency', fontsize=14)\n",
    "# plt.xlim(0, 101)\n",
    "# plt.xticks(fontsize=12)\n",
    "# plt.yticks(fontsize=12)\n",
    "# plt.tight_layout()"
   ]
  },
  {
   "cell_type": "code",
   "execution_count": null,
   "metadata": {},
   "outputs": [],
   "source": []
  },
  {
   "cell_type": "code",
   "execution_count": null,
   "metadata": {},
   "outputs": [],
   "source": []
  },
  {
   "cell_type": "code",
   "execution_count": null,
   "metadata": {},
   "outputs": [],
   "source": []
  },
  {
   "cell_type": "code",
   "execution_count": null,
   "metadata": {},
   "outputs": [],
   "source": []
  },
  {
   "cell_type": "code",
   "execution_count": null,
   "metadata": {},
   "outputs": [],
   "source": []
  }
 ],
 "metadata": {
  "kernelspec": {
   "display_name": "Python 3",
   "language": "python",
   "name": "python3"
  },
  "language_info": {
   "codemirror_mode": {
    "name": "ipython",
    "version": 3
   },
   "file_extension": ".py",
   "mimetype": "text/x-python",
   "name": "python",
   "nbconvert_exporter": "python",
   "pygments_lexer": "ipython3",
   "version": "3.6.8"
  }
 },
 "nbformat": 4,
 "nbformat_minor": 2
}
